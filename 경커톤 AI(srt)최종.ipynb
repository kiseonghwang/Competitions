{
  "nbformat": 4,
  "nbformat_minor": 0,
  "metadata": {
    "colab": {
      "provenance": [],
      "gpuType": "T4"
    },
    "kernelspec": {
      "name": "python3",
      "display_name": "Python 3"
    },
    "language_info": {
      "name": "python"
    },
    "accelerator": "GPU"
  },
  "cells": [
    {
      "cell_type": "code",
      "source": [
        "from google.colab import drive\n",
        "drive.mount('/content/drive')"
      ],
      "metadata": {
        "colab": {
          "base_uri": "https://localhost:8080/"
        },
        "id": "EsbDlLYSbrPW",
        "outputId": "3464e38e-0aff-4a7d-94a7-360c4cece602"
      },
      "execution_count": 1,
      "outputs": [
        {
          "output_type": "stream",
          "name": "stdout",
          "text": [
            "Drive already mounted at /content/drive; to attempt to forcibly remount, call drive.mount(\"/content/drive\", force_remount=True).\n"
          ]
        }
      ]
    },
    {
      "cell_type": "code",
      "source": [
        "!pip install Augmentor"
      ],
      "metadata": {
        "colab": {
          "base_uri": "https://localhost:8080/"
        },
        "id": "j_4T8PsY1Ykp",
        "outputId": "3d2dd62a-6701-43f1-de15-f4358062c44e"
      },
      "execution_count": 2,
      "outputs": [
        {
          "output_type": "stream",
          "name": "stdout",
          "text": [
            "Requirement already satisfied: Augmentor in /usr/local/lib/python3.10/dist-packages (0.2.12)\n",
            "Requirement already satisfied: Pillow>=5.2.0 in /usr/local/lib/python3.10/dist-packages (from Augmentor) (9.4.0)\n",
            "Requirement already satisfied: tqdm>=4.9.0 in /usr/local/lib/python3.10/dist-packages (from Augmentor) (4.66.1)\n",
            "Requirement already satisfied: numpy>=1.11.0 in /usr/local/lib/python3.10/dist-packages (from Augmentor) (1.23.5)\n"
          ]
        }
      ]
    },
    {
      "cell_type": "code",
      "execution_count": 3,
      "metadata": {
        "id": "pI8oYwwCLSp1"
      },
      "outputs": [],
      "source": [
        "import numpy as np\n",
        "import pandas as pd\n",
        "import matplotlib.pyplot as plt\n",
        "from glob import glob\n",
        "import os\n",
        "from tensorflow import keras\n",
        "import tensorflow as tf\n",
        "import cv2\n",
        "import shutil\n",
        "from sklearn.model_selection import train_test_split\n",
        "from tensorflow.keras.models import Model\n",
        "from keras.models import load_model\n",
        "from google.colab import files\n",
        "import seaborn as sns\n",
        "from PIL import Image\n",
        "import random\n",
        "from tensorflow.keras.callbacks import EarlyStopping\n",
        "from tensorflow.keras.preprocessing.image import ImageDataGenerator"
      ]
    },
    {
      "cell_type": "code",
      "source": [
        "# 모든 이미지 파일 형식을 jpg로 바꿈\n",
        "def convert_images_to_jpg(folder_path):\n",
        "    image_files = glob(os.path.join(folder_path, '*'))\n",
        "\n",
        "    for image_file in image_files:\n",
        "        _, extension = os.path.splitext(image_file)\n",
        "\n",
        "        if extension.lower() not in ['.jpg']:\n",
        "            new_file_path = os.path.splitext(image_file)[0] + '.jpg'\n",
        "            shutil.move(image_file, new_file_path)\n",
        "\n",
        "    print(\"Conversion completed.\")\n",
        "\n",
        "folder_path_to_convert = \"/content/drive/MyDrive/data/*\"\n",
        "convert_images_to_jpg(folder_path_to_convert)"
      ],
      "metadata": {
        "colab": {
          "base_uri": "https://localhost:8080/"
        },
        "id": "tAB_Oc51ruoX",
        "outputId": "b8c5a647-19a8-43d6-e43e-800bfe3a9310"
      },
      "execution_count": 4,
      "outputs": [
        {
          "output_type": "stream",
          "name": "stdout",
          "text": [
            "Conversion completed.\n"
          ]
        }
      ]
    },
    {
      "cell_type": "code",
      "source": [
        "building_fire = glob(\"/content/drive/MyDrive/data/건물 화재/*.jpg\")\n",
        "traffic_accident = glob(\"/content/drive/MyDrive/data/교통사고/*.jpg\")\n",
        "forest_fires = glob(\"/content/drive/MyDrive/data/산불/*.jpg\")\n",
        "car_fire = glob(\"/content/drive/MyDrive/data/차량 화재/*.jpg\")"
      ],
      "metadata": {
        "id": "rNCv-TJNWJov"
      },
      "execution_count": 5,
      "outputs": []
    },
    {
      "cell_type": "code",
      "source": [
        "fig, ax = plt.subplots()\n",
        "\n",
        "fruits = ['building_fire', 'traffic_accident', 'forest_fires', 'car_fire']\n",
        "counts = [len(building_fire), len(traffic_accident), len(forest_fires), len(car_fire)]\n",
        "bar_labels = ['red', 'blue', 'gren', 'orange']\n",
        "bar_colors = ['tab:red', 'tab:blue', 'tab:green', 'tab:orange']\n",
        "\n",
        "ax.bar(fruits, counts, label=bar_labels, color=bar_colors)\n",
        "\n",
        "ax.set_ylabel('org_num')\n",
        "ax.set_title('org_num_file')\n",
        "ax.legend(title='Fruit color')\n",
        "\n",
        "plt.show()"
      ],
      "metadata": {
        "colab": {
          "base_uri": "https://localhost:8080/",
          "height": 452
        },
        "id": "8fObZNSxU4Ya",
        "outputId": "8e4ada6a-3ccd-4405-fcbd-7b33e9948b33"
      },
      "execution_count": 6,
      "outputs": [
        {
          "output_type": "display_data",
          "data": {
            "text/plain": [
              "<Figure size 640x480 with 1 Axes>"
            ],
            "image/png": "[encoded data removed]"
          },
          "metadata": {}
        }
      ]
    },
    {
      "cell_type": "code",
      "source": [
        "def augment_data(input_folder, output_folder, augmentation_factor=4):\n",
        "    # 입력 폴더의 이미지 파일 목록 가져오기\n",
        "    file_names = os.listdir(input_folder)\n",
        "\n",
        "    for file_name in file_names:\n",
        "        # 이미지 경로 생성\n",
        "        input_path = os.path.join(input_folder, file_name)\n",
        "\n",
        "        # 이미지 읽기\n",
        "        img = cv2.imread(input_path)\n",
        "\n",
        "        # 이미지 읽기가 실패한 경우 건너뛰기\n",
        "        if img is None:\n",
        "            print(f\"이미지를 읽을 수 없습니다: {input_path}\")\n",
        "            continue\n",
        "\n",
        "        # 데이터 증강\n",
        "        for i in range(augmentation_factor):\n",
        "            augmented_img = img.copy()\n",
        "\n",
        "            # 좌우 반전\n",
        "            if np.random.rand() > 0.5:\n",
        "                augmented_img = cv2.flip(augmented_img, 1)\n",
        "\n",
        "            # 회전\n",
        "            angle = np.random.randint(-20, 20)\n",
        "            matrix = cv2.getRotationMatrix2D((img.shape[1]//2, img.shape[0]//2), angle, 1)\n",
        "            augmented_img = cv2.warpAffine(augmented_img, matrix, (img.shape[1], img.shape[0]))\n",
        "\n",
        "            # 밝기 조절 (옵션)\n",
        "            brightness = np.random.uniform(0.7, 1.3)\n",
        "            augmented_img = cv2.convertScaleAbs(augmented_img, alpha=brightness, beta=0)\n",
        "\n",
        "            # 파일명 생성\n",
        "            output_file_name = f\"augmented_{file_name.split('.')[0]}_{i+1}.jpg\"\n",
        "\n",
        "            # 저장 경로 생성\n",
        "            output_path = os.path.join(output_folder, output_file_name)\n",
        "\n",
        "            # 이미지 저장\n",
        "            cv2.imwrite(output_path, augmented_img)\n",
        "\n",
        "\n",
        "if not os.path.exists(\"건물 화재1\") and not os.path.exists(\"차량 화재1\"):\n",
        "  os.mkdir(\"건물 화재1\")\n",
        "  os.mkdir(\"차량 화재1\")\n",
        "\n",
        "  input_folder = '/content/drive/MyDrive/data/건물 화재'\n",
        "  output_folder = '/content/건물 화재1'\n",
        "  augmentation_factor = 4\n",
        "\n",
        "  augment_data(input_folder, output_folder, augmentation_factor)\n",
        "\n",
        "  input_folder = '/content/drive/MyDrive/data/차량 화재'\n",
        "  output_folder = '/content/차량 화재1'\n",
        "  augmentation_factor = 8\n",
        "\n",
        "  augment_data(input_folder, output_folder, augmentation_factor)"
      ],
      "metadata": {
        "id": "_CHJi7M2cKC8"
      },
      "execution_count": 7,
      "outputs": []
    },
    {
      "cell_type": "code",
      "source": [
        "building_fire = glob(\"/content/건물 화재1/*.jpg\")\n",
        "traffic_accident = glob(\"/content/drive/MyDrive/data/교통사고/*.jpg\")\n",
        "forest_fires = glob(\"/content/drive/MyDrive/data/산불/*.jpg\")\n",
        "car_fire = glob(\"/content/차량 화재1/*.jpg\")"
      ],
      "metadata": {
        "id": "HTckh1hQkkxS"
      },
      "execution_count": 8,
      "outputs": []
    },
    {
      "cell_type": "code",
      "source": [
        "fig, ax = plt.subplots()\n",
        "\n",
        "fruits = ['building_fire', 'traffic_accident', 'forest_fires', 'car_fire']\n",
        "counts = [len(building_fire), len(traffic_accident), len(forest_fires), len(car_fire)]\n",
        "bar_labels = ['red', 'blue', 'green', 'orange']\n",
        "bar_colors = ['tab:red', 'tab:blue', 'tab:green', 'tab:orange']\n",
        "\n",
        "ax.bar(fruits, counts, label=bar_labels, color=bar_colors)\n",
        "\n",
        "ax.set_ylabel('file num')\n",
        "ax.set_title('gen_img_data')\n",
        "ax.legend(title='Fruit color')\n",
        "\n",
        "plt.show()"
      ],
      "metadata": {
        "colab": {
          "base_uri": "https://localhost:8080/",
          "height": 452
        },
        "id": "pfoef0-_kmfu",
        "outputId": "990f65e7-4030-4c97-db14-20f578de1975"
      },
      "execution_count": 9,
      "outputs": [
        {
          "output_type": "display_data",
          "data": {
            "text/plain": [
              "<Figure size 640x480 with 1 Axes>"
            ],
            "image/png": "[encoded data removed]"
          },
          "metadata": {}
        }
      ]
    },
    {
      "cell_type": "code",
      "source": [
        "def num_print(a):\n",
        "  print(len(a))\n",
        "\n",
        "num_print(building_fire)\n",
        "num_print(traffic_accident)\n",
        "num_print(forest_fires)\n",
        "num_print(car_fire)"
      ],
      "metadata": {
        "id": "0jzGhbj7xHCN",
        "colab": {
          "base_uri": "https://localhost:8080/"
        },
        "outputId": "c68dcea5-a7a3-4926-d112-8164ce365eb2"
      },
      "execution_count": 10,
      "outputs": [
        {
          "output_type": "stream",
          "name": "stdout",
          "text": [
            "860\n",
            "761\n",
            "928\n",
            "728\n"
          ]
        }
      ]
    },
    {
      "cell_type": "code",
      "source": [
        "def load_img(img_path):\n",
        "  img_list = []\n",
        "  for img in img_path:\n",
        "    img = cv2.imread(img)\n",
        "    if img is not None:\n",
        "        img = cv2.resize(img, (224, 224))\n",
        "        img_list.append(img)\n",
        "    else:\n",
        "          print(f\"필요 없는 놈은 죽어라!!: {img_path}\")\n",
        "  img_list = np.array(img_list)\n",
        "  return img_list\n",
        "building_fire = load_img(building_fire)\n",
        "traffic_accident = load_img(traffic_accident)\n",
        "forest_fires = load_img(forest_fires)\n",
        "car_fire = load_img(car_fire)"
      ],
      "metadata": {
        "id": "lu4o_uQty9JE",
        "colab": {
          "base_uri": "https://localhost:8080/"
        },
        "outputId": "3b759e95-c8e2-4661-ecf1-5395b5cc2f76"
      },
      "execution_count": 11,
      "outputs": [
        {
          "output_type": "stream",
          "name": "stdout",
          "text": [
            "필요 없는 놈은 죽어라!!: ['/content/drive/MyDrive/data/교통사고/102.jpg', '/content/drive/MyDrive/data/교통사고/1440x810_303133.jpg', '/content/drive/MyDrive/data/교통사고/103.jpg', '/content/drive/MyDrive/data/교통사고/104.jpg', '/content/drive/MyDrive/data/교통사고/101.jpg', '/content/drive/MyDrive/data/교통사고/37.jpg', '/content/drive/MyDrive/data/교통사고/85.jpg', '/content/drive/MyDrive/data/교통사고/a.jpg', '/content/drive/MyDrive/data/교통사고/31.jpg', '/content/drive/MyDrive/data/교통사고/27.jpg', '/content/drive/MyDrive/data/교통사고/92.jpg', '/content/drive/MyDrive/data/교통사고/60.jpg', '/content/drive/MyDrive/data/교통사고/38.jpg', '/content/drive/MyDrive/data/교통사고/65.jpg', '/content/drive/MyDrive/data/교통사고/89.jpg', '/content/drive/MyDrive/data/교통사고/88.jpg', '/content/drive/MyDrive/data/교통사고/74.jpg', '/content/drive/MyDrive/data/교통사고/99.jpg', '/content/drive/MyDrive/data/교통사고/43.jpg', '/content/drive/MyDrive/data/교통사고/79.jpg', '/content/drive/MyDrive/data/교통사고/29.jpg', '/content/drive/MyDrive/data/교통사고/83.jpg', '/content/drive/MyDrive/data/교통사고/84.jpg', '/content/drive/MyDrive/data/교통사고/68.jpg', '/content/drive/MyDrive/data/교통사고/a1.jpg', '/content/drive/MyDrive/data/교통사고/95.jpg', '/content/drive/MyDrive/data/교통사고/76.jpg', '/content/drive/MyDrive/data/교통사고/Screenshot_20181009-171354__01-1000x576.jpg', '/content/drive/MyDrive/data/교통사고/30.jpg', '/content/drive/MyDrive/data/교통사고/75.jpg', '/content/drive/MyDrive/data/교통사고/73.jpg', '/content/drive/MyDrive/data/교통사고/55.jpg', '/content/drive/MyDrive/data/교통사고/36.jpg', '/content/drive/MyDrive/data/교통사고/96.jpg', '/content/drive/MyDrive/data/교통사고/87.jpg', '/content/drive/MyDrive/data/교통사고/93.jpg', '/content/drive/MyDrive/data/교통사고/77.jpg', '/content/drive/MyDrive/data/교통사고/67.jpg', '/content/drive/MyDrive/data/교통사고/35.jpg', '/content/drive/MyDrive/data/교통사고/48.jpg', '/content/drive/MyDrive/data/교통사고/81.jpg', '/content/drive/MyDrive/data/교통사고/45.jpg', '/content/drive/MyDrive/data/교통사고/86.jpg', '/content/drive/MyDrive/data/교통사고/42.jpg', '/content/drive/MyDrive/data/교통사고/46.jpg', '/content/drive/MyDrive/data/교통사고/66.jpg', '/content/drive/MyDrive/data/교통사고/98.jpg', '/content/drive/MyDrive/data/교통사고/56.jpg', '/content/drive/MyDrive/data/교통사고/82.jpg', '/content/drive/MyDrive/data/교통사고/41.jpg', '/content/drive/MyDrive/data/교통사고/59.jpg', '/content/drive/MyDrive/data/교통사고/71.jpg', '/content/drive/MyDrive/data/교통사고/58.jpg', '/content/drive/MyDrive/data/교통사고/57.jpg', '/content/drive/MyDrive/data/교통사고/33.jpg', '/content/drive/MyDrive/data/교통사고/a10.jpg', '/content/drive/MyDrive/data/교통사고/39.jpg', '/content/drive/MyDrive/data/교통사고/gettybs-127914773-612x612.jpg', '/content/drive/MyDrive/data/교통사고/istockphoto-134112385-612x612.jpg', '/content/drive/MyDrive/data/교통사고/gettyimages-847479990-612x612.jpg', '/content/drive/MyDrive/data/교통사고/gettyimages-144572967-612x612.jpg', '/content/drive/MyDrive/data/교통사고/gettyimages-1212737358-612x612.jpg', '/content/drive/MyDrive/data/교통사고/gettybs-1151727222-612x612.jpg', '/content/drive/MyDrive/data/교통사고/gettyimages-1001649944-612x612.jpg', '/content/drive/MyDrive/data/교통사고/gettyimages-1181829393-612x612.jpg', '/content/drive/MyDrive/data/교통사고/a2.jpg', '/content/drive/MyDrive/data/교통사고/gettyimages-1145445509-612x612.jpg', '/content/drive/MyDrive/data/교통사고/gettybs-1221072169-612x612.jpg', '/content/drive/MyDrive/data/교통사고/istockphoto-1063966168-612x612.jpg', '/content/drive/MyDrive/data/교통사고/gettybs-1145445509-612x612.jpg', '/content/drive/MyDrive/data/교통사고/gettybs-649388236-612x612.jpg', '/content/drive/MyDrive/data/교통사고/gettybs-1157016066-612x612.jpg', '/content/drive/MyDrive/data/교통사고/bdm71r.jpg', '/content/drive/MyDrive/data/교통사고/istockphoto-1266983274-612x612.jpg', '/content/drive/MyDrive/data/교통사고/gettyimages-1218413285-612x612.jpg', '/content/drive/MyDrive/data/교통사고/istockphoto-475395935-612x612.jpg', '/content/drive/MyDrive/data/교통사고/gettyimages-993593688-612x612.jpg', '/content/drive/MyDrive/data/교통사고/istockphoto-465663322-612x612.jpg', '/content/drive/MyDrive/data/교통사고/istockphoto-1291043081-612x612.jpg', '/content/drive/MyDrive/data/교통사고/gettyimages-804496808-612x612.jpg', '/content/drive/MyDrive/data/교통사고/istockphoto-1093651252-612x612.jpg', '/content/drive/MyDrive/data/교통사고/gettyimages-1155562978-612x612.jpg', '/content/drive/MyDrive/data/교통사고/istockphoto-466327320-612x612.jpg', '/content/drive/MyDrive/data/교통사고/istockphoto-177307204-612x612.jpg', '/content/drive/MyDrive/data/교통사고/gettybs-655596270-612x612.jpg', '/content/drive/MyDrive/data/교통사고/hpttaf.jpg', '/content/drive/MyDrive/data/교통사고/istockphoto-172181182-612x612.jpg', '/content/drive/MyDrive/data/교통사고/a43.jpg', '/content/drive/MyDrive/data/교통사고/istockphoto-172249240-612x612.jpg', '/content/drive/MyDrive/data/교통사고/a6.jpg', '/content/drive/MyDrive/data/교통사고/gettyimages-844156156-612x612.jpg', '/content/drive/MyDrive/data/교통사고/gettyimages-911822844-612x612.jpg', '/content/drive/MyDrive/data/교통사고/gettyimages-1074742130-612x612.jpg', '/content/drive/MyDrive/data/교통사고/a3.jpg', '/content/drive/MyDrive/data/교통사고/bndafg.jpg', '/content/drive/MyDrive/data/교통사고/istockphoto-172922443-612x612.jpg', '/content/drive/MyDrive/data/교통사고/istockphoto-1062193346-612x612.jpg', '/content/drive/MyDrive/data/교통사고/istockphoto-1256128251-612x612.jpg', '/content/drive/MyDrive/data/교통사고/gettyimages-97860731-612x612.jpg', '/content/drive/MyDrive/data/교통사고/a13.jpg', '/content/drive/MyDrive/data/교통사고/gettyimages-986184786-612x612.jpg', '/content/drive/MyDrive/data/교통사고/gettybs-108054569-612x612.jpg', '/content/drive/MyDrive/data/교통사고/gettyimages-1202928683-612x612.jpg', '/content/drive/MyDrive/data/교통사고/a4.jpg', '/content/drive/MyDrive/data/교통사고/istockphoto-122705194-612x612.jpg', '/content/drive/MyDrive/data/교통사고/istockphoto-174983124-612x612.jpg', '/content/drive/MyDrive/data/교통사고/istockphoto-145926523-612x612.jpg', '/content/drive/MyDrive/data/교통사고/gettybs-1158411384-612x612.jpg', '/content/drive/MyDrive/data/교통사고/gettyimages-1233065229-612x612.jpg', '/content/drive/MyDrive/data/교통사고/gettybs-451310265-612x612.jpg', '/content/drive/MyDrive/data/교통사고/gettybs-168354772-612x612.jpg', '/content/drive/MyDrive/data/교통사고/gettyimages-986184800-612x612.jpg', '/content/drive/MyDrive/data/교통사고/gettybs-648719062-612x612.jpg', '/content/drive/MyDrive/data/교통사고/istockphoto-1156653120-612x612.jpg', '/content/drive/MyDrive/data/교통사고/gapmt4.jpg', '/content/drive/MyDrive/data/교통사고/istockphoto-1202391415-612x612.jpg', '/content/drive/MyDrive/data/교통사고/a24.jpg', '/content/drive/MyDrive/data/교통사고/gettybs-1232955568-612x612.jpg', '/content/drive/MyDrive/data/교통사고/gettybs-1229009244-612x612.jpg', '/content/drive/MyDrive/data/교통사고/istockphoto-145926530-612x612.jpg', '/content/drive/MyDrive/data/교통사고/gettybs-1066767430-612x612.jpg', '/content/drive/MyDrive/data/교통사고/gettyimages-604244950-612x612.jpg', '/content/drive/MyDrive/data/교통사고/amm6a0.jpg', '/content/drive/MyDrive/data/교통사고/ab72h3.jpg', '/content/drive/MyDrive/data/교통사고/ctc31n.jpg', '/content/drive/MyDrive/data/교통사고/gettyimages-1227353438-612x612.jpg', '/content/drive/MyDrive/data/교통사고/a8.jpg', '/content/drive/MyDrive/data/교통사고/gettybs-480868937-612x612.jpg', '/content/drive/MyDrive/data/교통사고/gettyimages-1221142228-612x612.jpg', '/content/drive/MyDrive/data/교통사고/gettyimages-944393144-612x612.jpg', '/content/drive/MyDrive/data/교통사고/a37.jpg', '/content/drive/MyDrive/data/교통사고/a34.jpg', '/content/drive/MyDrive/data/교통사고/gettyimages-669864696-612x612.jpg', '/content/drive/MyDrive/data/교통사고/crejbm.jpg', '/content/drive/MyDrive/data/교통사고/gettybs-97860731-612x612.jpg', '/content/drive/MyDrive/data/교통사고/gettybs-1221072199-612x612.jpg', '/content/drive/MyDrive/data/교통사고/a42.jpg', '/content/drive/MyDrive/data/교통사고/istockphoto-121724309-612x612.jpg', '/content/drive/MyDrive/data/교통사고/istockphoto-171264208-612x612.jpg', '/content/drive/MyDrive/data/교통사고/gettybs-986184800-612x612.jpg', '/content/drive/MyDrive/data/교통사고/a29.jpg', '/content/drive/MyDrive/data/교통사고/gettybs-811907554-612x612.jpg', '/content/drive/MyDrive/data/교통사고/gettybs-1218413285-612x612.jpg', '/content/drive/MyDrive/data/교통사고/istockphoto-479044140-612x612.jpg', '/content/drive/MyDrive/data/교통사고/istockphoto-451333985-612x612.jpg', '/content/drive/MyDrive/data/교통사고/bus-accident-small-highway-frontal-collision-192471850.jpg', '/content/drive/MyDrive/data/교통사고/istockphoto-1175805775-612x612.jpg', '/content/drive/MyDrive/data/교통사고/istockphoto-187062420-612x612.jpg', '/content/drive/MyDrive/data/교통사고/a49by3.jpg', '/content/drive/MyDrive/data/교통사고/ac9b58.jpg', '/content/drive/MyDrive/data/교통사고/a33.jpg', '/content/drive/MyDrive/data/교통사고/gettybs-1229009638-612x612.jpg', '/content/drive/MyDrive/data/교통사고/gettyimages-1039390264-612x612.jpg', '/content/drive/MyDrive/data/교통사고/car-accident-6160522.jpg', '/content/drive/MyDrive/data/교통사고/istockphoto-175195079-612x612.jpg', '/content/drive/MyDrive/data/교통사고/a9.jpg', '/content/drive/MyDrive/data/교통사고/a30.jpg', '/content/drive/MyDrive/data/교통사고/istockphoto-171223910-612x612.jpg', '/content/drive/MyDrive/data/교통사고/gettyimages-1227879451-612x612.jpg', '/content/drive/MyDrive/data/교통사고/istockphoto-1162901536-612x612.jpg', '/content/drive/MyDrive/data/교통사고/bw4mk6.jpg', '/content/drive/MyDrive/data/교통사고/istockphoto-159754406-612x612.jpg', '/content/drive/MyDrive/data/교통사고/gettybs-1229009293-612x612.jpg', '/content/drive/MyDrive/data/교통사고/gettyimages-1218413283-612x612.jpg', '/content/drive/MyDrive/data/교통사고/gettyimages-1026726686-612x612.jpg', '/content/drive/MyDrive/data/교통사고/gettybs-1218413283-612x612.jpg', '/content/drive/MyDrive/data/교통사고/gettyimages-624690870-612x612.jpg', '/content/drive/MyDrive/data/교통사고/gettyimages-168354772-612x612.jpg', '/content/drive/MyDrive/data/교통사고/istockphoto-1138121309-612x612.jpg', '/content/drive/MyDrive/data/교통사고/gettybs-1226602558-612x612.jpg', '/content/drive/MyDrive/data/교통사고/emgrh4.jpg', '/content/drive/MyDrive/data/교통사고/a46.jpg', '/content/drive/MyDrive/data/교통사고/gettyimages-1233062644-612x612.jpg', '/content/drive/MyDrive/data/교통사고/gettyimages-1032008248-612x612.jpg', '/content/drive/MyDrive/data/교통사고/a40.jpg', '/content/drive/MyDrive/data/교통사고/gettyimages-1221072199-612x612.jpg', '/content/drive/MyDrive/data/교통사고/gettybs-1155562978-612x612.jpg', '/content/drive/MyDrive/data/교통사고/gettybs-148156822-612x612.jpg', '/content/drive/MyDrive/data/교통사고/a23.jpg', '/content/drive/MyDrive/data/교통사고/gettyimages-1145445508-612x612.jpg', '/content/drive/MyDrive/data/교통사고/istockphoto-157180797-612x612 - Copy.jpg', '/content/drive/MyDrive/data/교통사고/gettyimages-1228180331-612x612.jpg', '/content/drive/MyDrive/data/교통사고/a7.jpg', '/content/drive/MyDrive/data/교통사고/istockphoto-157637127-612x612.jpg', '/content/drive/MyDrive/data/교통사고/istockphoto-121723942-612x612.jpg', '/content/drive/MyDrive/data/교통사고/gettyimages-1154522858-612x612.jpg', '/content/drive/MyDrive/data/교통사고/gettybs-604244950-612x612.jpg', '/content/drive/MyDrive/data/교통사고/gettyimages-1219958199-612x612.jpg', '/content/drive/MyDrive/data/교통사고/bwc00b.jpg', '/content/drive/MyDrive/data/교통사고/gettyimages-1152761300-612x612.jpg', '/content/drive/MyDrive/data/교통사고/gettyimages-987442540-612x612.jpg', '/content/drive/MyDrive/data/교통사고/gettyimages-941766738-612x612.jpg', '/content/drive/MyDrive/data/교통사고/istockphoto-1058586290-612x612.jpg', '/content/drive/MyDrive/data/교통사고/gettyimages-1154522859-612x612.jpg', '/content/drive/MyDrive/data/교통사고/bwpy19.jpg', '/content/drive/MyDrive/data/교통사고/gettybs-188145441-612x612.jpg', '/content/drive/MyDrive/data/교통사고/a35.jpg', '/content/drive/MyDrive/data/교통사고/gettybs-986184786-612x612.jpg', '/content/drive/MyDrive/data/교통사고/ajy7wr.jpg', '/content/drive/MyDrive/data/교통사고/gettybs-804496808-612x612.jpg', '/content/drive/MyDrive/data/교통사고/gettybs-168354776-612x612.jpg', '/content/drive/MyDrive/data/교통사고/gettyimages-188145441-612x612.jpg', '/content/drive/MyDrive/data/교통사고/gettyimages-1229009293-612x612.jpg', '/content/drive/MyDrive/data/교통사고/gettyimages-91021256-612x612.jpg', '/content/drive/MyDrive/data/교통사고/a25.jpg', '/content/drive/MyDrive/data/교통사고/gettyimages-993593696-612x612.jpg', '/content/drive/MyDrive/data/교통사고/istockphoto-173056956-612x612.jpg', '/content/drive/MyDrive/data/교통사고/gettyimages-977640890-612x612.jpg', '/content/drive/MyDrive/data/교통사고/car-accident-closeup-was-badly-damaged-sideswipe-34262097.jpg', '/content/drive/MyDrive/data/교통사고/gettybs-529087750-612x612.jpg', '/content/drive/MyDrive/data/교통사고/gettyimages-923084794-612x612.jpg', '/content/drive/MyDrive/data/교통사고/istockphoto-155857047-612x612.jpg', '/content/drive/MyDrive/data/교통사고/gettyimages-1032008252-612x612.jpg', '/content/drive/MyDrive/data/교통사고/ce71r2.jpg', '/content/drive/MyDrive/data/교통사고/gettyimages-1233475754-612x612.jpg', '/content/drive/MyDrive/data/교통사고/istockphoto-186441949-612x612.jpg', '/content/drive/MyDrive/data/교통사고/gettybs-139400973-612x612.jpg', '/content/drive/MyDrive/data/교통사고/gettyimages-847043500-612x612.jpg', '/content/drive/MyDrive/data/교통사고/gettyimages-529087750-612x612.jpg', '/content/drive/MyDrive/data/교통사고/bm6mar.jpg', '/content/drive/MyDrive/data/교통사고/car-accident-road-30775208.jpg', '/content/drive/MyDrive/data/교통사고/istockphoto-1221081182-612x612.jpg', '/content/drive/MyDrive/data/교통사고/istockphoto-1178749791-612x612.jpg', '/content/drive/MyDrive/data/교통사고/gettybs-669864696-612x612.jpg', '/content/drive/MyDrive/data/교통사고/gettybs-1212737358-612x612.jpg', '/content/drive/MyDrive/data/교통사고/dy847p.jpg', '/content/drive/MyDrive/data/교통사고/istockphoto-159758642-612x612.jpg', '/content/drive/MyDrive/data/교통사고/gettybs-1201957709-612x612.jpg', '/content/drive/MyDrive/data/교통사고/gettyimages-986184782-612x612.jpg', '/content/drive/MyDrive/data/교통사고/gettybs-1152761300-612x612.jpg', '/content/drive/MyDrive/data/교통사고/c532gf.jpg', '/content/drive/MyDrive/data/교통사고/istockphoto-1323543535-612x612.jpg', '/content/drive/MyDrive/data/교통사고/gettyimages-139400973-612x612.jpg', '/content/drive/MyDrive/data/교통사고/axk94g.jpg', '/content/drive/MyDrive/data/교통사고/istockphoto-1216079018-612x612.jpg', '/content/drive/MyDrive/data/교통사고/gettyimages-1052103942-612x612.jpg', '/content/drive/MyDrive/data/교통사고/a11.jpg', '/content/drive/MyDrive/data/교통사고/gettyimages-52546179-612x612.jpg', '/content/drive/MyDrive/data/교통사고/istockphoto-157482959-612x612.jpg', '/content/drive/MyDrive/data/교통사고/a36.jpg', '/content/drive/MyDrive/data/교통사고/ab72h1.jpg', '/content/drive/MyDrive/data/교통사고/gettybs-993593688-612x612.jpg', '/content/drive/MyDrive/data/교통사고/istockphoto-157180962-612x612.jpg', '/content/drive/MyDrive/data/교통사고/gettybs-1221142228-612x612.jpg', '/content/drive/MyDrive/data/교통사고/istockphoto-1182002245-612x612.jpg', '/content/drive/MyDrive/data/교통사고/gettyimages-1232955568-612x612.jpg', '/content/drive/MyDrive/data/교통사고/emgp3b.jpg', '/content/drive/MyDrive/data/교통사고/istockphoto-451333971-612x612.jpg', '/content/drive/MyDrive/data/교통사고/gettybs-624690870-612x612.jpg', '/content/drive/MyDrive/data/교통사고/istockphoto-1343101316-612x612.jpg', '/content/drive/MyDrive/data/교통사고/gettyimages-1158411384-612x612.jpg', '/content/drive/MyDrive/data/교통사고/gettyimages-1201957709-612x612.jpg', '/content/drive/MyDrive/data/교통사고/gettybs-986184782-612x612.jpg', '/content/drive/MyDrive/data/교통사고/istockphoto-183233591-612x612.jpg', '/content/drive/MyDrive/data/교통사고/gettyimages-1157016066-612x612.jpg', '/content/drive/MyDrive/data/교통사고/istockphoto-157645960-612x612.jpg', '/content/drive/MyDrive/data/교통사고/gettybs-1227879451-612x612.jpg', '/content/drive/MyDrive/data/교통사고/gettyimages-649388236-612x612.jpg', '/content/drive/MyDrive/data/교통사고/istockphoto-116514841-612x612.jpg', '/content/drive/MyDrive/data/교통사고/gettyimages-1296704471-612x612.jpg', '/content/drive/MyDrive/data/교통사고/istockphoto-1156652890-612x612.jpg', '/content/drive/MyDrive/data/교통사고/istockphoto-1283099201-612x612.jpg', '/content/drive/MyDrive/data/교통사고/gettyimages-841533676-612x612.jpg', '/content/drive/MyDrive/data/교통사고/gettybs-1233475754-612x612.jpg', '/content/drive/MyDrive/data/교통사고/gettyimages-1219958421-612x612.jpg', '/content/drive/MyDrive/data/교통사고/gettybs-977640890-612x612.jpg', '/content/drive/MyDrive/data/교통사고/a38.jpg', '/content/drive/MyDrive/data/교통사고/gettyimages-1151727222-612x612.jpg', '/content/drive/MyDrive/data/교통사고/a111.jpg', '/content/drive/MyDrive/data/교통사고/gettybs-1219958421-612x612.jpg', '/content/drive/MyDrive/data/교통사고/gettyimages-1228137701-612x612.jpg', '/content/drive/MyDrive/data/교통사고/ce661h.jpg', '/content/drive/MyDrive/data/교통사고/gettyimages-148156822-612x612.jpg', '/content/drive/MyDrive/data/교통사고/gettyimages-1226602558-612x612.jpg', '/content/drive/MyDrive/data/교통사고/gettyimages-648719062-612x612.jpg', '/content/drive/MyDrive/data/교통사고/gettyimages-127914773-612x612.jpg', '/content/drive/MyDrive/data/교통사고/gettyimages-451310265-612x612.jpg', '/content/drive/MyDrive/data/교통사고/istockphoto-469391700-612x612.jpg', '/content/drive/MyDrive/data/교통사고/gettyimages-847043484-612x612.jpg', '/content/drive/MyDrive/data/교통사고/gettybs-1074742130-612x612.jpg', '/content/drive/MyDrive/data/교통사고/istockphoto-178877151-612x612.jpg', '/content/drive/MyDrive/data/교통사고/gettyimages-1229009244-612x612.jpg', '/content/drive/MyDrive/data/교통사고/istockphoto-157561077-612x612.jpg', '/content/drive/MyDrive/data/교통사고/gettyimages-952349880-612x612.jpg', '/content/drive/MyDrive/data/교통사고/gettybs-450563989-612x612.jpg', '/content/drive/MyDrive/data/교통사고/istockphoto-1152232977-612x612.jpg', '/content/drive/MyDrive/data/교통사고/istockphoto-466387691-612x612.jpg', '/content/drive/MyDrive/data/교통사고/istockphoto-145926530-612x612 - Copy.jpg', '/content/drive/MyDrive/data/교통사고/a32.jpg', '/content/drive/MyDrive/data/교통사고/istockphoto-105793507-612x612.jpg', '/content/drive/MyDrive/data/교통사고/bus-accident-slipping-off-road-131245508.jpg', '/content/drive/MyDrive/data/교통사고/gettybs-1026726686-612x612.jpg', '/content/drive/MyDrive/data/교통사고/gettybs-1230686031-612x612.jpg', '/content/drive/MyDrive/data/교통사고/gettybs-699914520-612x612.jpg', '/content/drive/MyDrive/data/교통사고/gettybs-1145445508-612x612.jpg', '/content/drive/MyDrive/data/교통사고/car-accident-12793736.jpg', '/content/drive/MyDrive/data/교통사고/a27.jpg', '/content/drive/MyDrive/data/교통사고/ce66cw.jpg', '/content/drive/MyDrive/data/교통사고/gettyimages-1228137380-612x612.jpg', '/content/drive/MyDrive/data/교통사고/bfp57e.jpg', '/content/drive/MyDrive/data/교통사고/a26.jpg', '/content/drive/MyDrive/data/교통사고/gettyimages-655596270-612x612.jpg', '/content/drive/MyDrive/data/교통사고/gettyimages-1162010869-612x612.jpg', '/content/drive/MyDrive/data/교통사고/gettyimages-699914520-612x612.jpg', '/content/drive/MyDrive/data/교통사고/istockphoto-175832387-612x612.jpg', '/content/drive/MyDrive/data/교통사고/gettybs-819229974-612x612.jpg', '/content/drive/MyDrive/data/교통사고/istockphoto-1093651052-612x612.jpg', '/content/drive/MyDrive/data/교통사고/gettybs-1032008252-612x612.jpg', '/content/drive/MyDrive/data/교통사고/gettybs-944393144-612x612.jpg', '/content/drive/MyDrive/data/교통사고/gettyimages-811907554-612x612.jpg', '/content/drive/MyDrive/data/교통사고/istockphoto-1292320728-612x612.jpg', '/content/drive/MyDrive/data/교통사고/gettyimages-1221072169-612x612.jpg', '/content/drive/MyDrive/data/교통사고/a31.jpg', '/content/drive/MyDrive/data/교통사고/gettybs-52546179-612x612.jpg', '/content/drive/MyDrive/data/교통사고/g4h7kc.jpg', '/content/drive/MyDrive/data/교통사고/istockphoto-466700304-612x612.jpg', '/content/drive/MyDrive/data/교통사고/d2cxnb.jpg', '/content/drive/MyDrive/data/교통사고/istockphoto-186591861-612x612.jpg', '/content/drive/MyDrive/data/교통사고/gettybs-993593696-612x612.jpg', '/content/drive/MyDrive/data/교통사고/an0aj8.jpg', '/content/drive/MyDrive/data/교통사고/gettyimages-168354776-612x612.jpg', '/content/drive/MyDrive/data/교통사고/istockphoto-171314787-612x612.jpg', '/content/drive/MyDrive/data/교통사고/gettyimages-108054569-612x612.jpg', '/content/drive/MyDrive/data/교통사고/istockphoto-172323174-612x612.jpg', '/content/drive/MyDrive/data/교통사고/gettyimages-480868937-612x612.jpg', '/content/drive/MyDrive/data/교통사고/istockphoto-157645956-612x612.jpg', '/content/drive/MyDrive/data/교통사고/gettyimages-849610796-612x612.jpg', '/content/drive/MyDrive/data/교통사고/a41.jpg', '/content/drive/MyDrive/data/교통사고/gettyimages-1230686031-612x612.jpg', '/content/drive/MyDrive/data/교통사고/istockphoto-144189667-612x612.jpg', '/content/drive/MyDrive/data/교통사고/gettybs-1219958199-612x612.jpg', '/content/drive/MyDrive/data/교통사고/a39.jpg', '/content/drive/MyDrive/data/교통사고/istockphoto-1222256339-612x612.jpg', '/content/drive/MyDrive/data/교통사고/istockphoto-116038922-612x612.jpg', '/content/drive/MyDrive/data/교통사고/a12.jpg', '/content/drive/MyDrive/data/교통사고/aa2tw5.jpg', '/content/drive/MyDrive/data/교통사고/istockphoto-115089594-612x612.jpg', '/content/drive/MyDrive/data/교통사고/istockphoto-1035766110-612x612.jpg', '/content/drive/MyDrive/data/교통사고/gettybs-1032008248-612x612.jpg', '/content/drive/MyDrive/data/교통사고/car-accident-road-slippery-roads-rain-55582775.jpg', '/content/drive/MyDrive/data/교통사고/a5.jpg', '/content/drive/MyDrive/data/교통사고/gettyimages-968583160-612x612.jpg', '/content/drive/MyDrive/data/교통사고/istockphoto-171334786-612x612.jpg', '/content/drive/MyDrive/data/교통사고/istockphoto-171345209-612x612.jpg', '/content/drive/MyDrive/data/교통사고/gettyimages-1228137691-612x612.jpg', '/content/drive/MyDrive/data/교통사고/gettybs-844156156-612x612.jpg', '/content/drive/MyDrive/data/교통사고/h3de61.jpg', '/content/drive/MyDrive/data/교통사고/gettyimages-1229009638-612x612.jpg', '/content/drive/MyDrive/data/교통사고/gettyimages-877547580-612x612.jpg', '/content/drive/MyDrive/data/교통사고/istockphoto-155147809-612x612.jpg', '/content/drive/MyDrive/data/교통사고/gettybs-144572967-612x612.jpg', '/content/drive/MyDrive/data/교통사고/c4t9d4.jpg', '/content/drive/MyDrive/data/교통사고/gettyimages-819229974-612x612.jpg', '/content/drive/MyDrive/data/교통사고/gettybs-1026726696-612x612.jpg', '/content/drive/MyDrive/data/교통사고/gettyimages-1066767430-612x612.jpg', '/content/drive/MyDrive/data/교통사고/gettyimages-1228137389-612x612.jpg', '/content/drive/MyDrive/data/교통사고/by4rn8.jpg', '/content/drive/MyDrive/data/교통사고/car-accident-road-53484282.jpg', '/content/drive/MyDrive/data/교통사고/istockphoto-1282162376-612x612.jpg', '/content/drive/MyDrive/data/교통사고/istockphoto-1127827878-612x612.jpg', '/content/drive/MyDrive/data/교통사고/gettybs-1039390264-612x612.jpg', '/content/drive/MyDrive/data/교통사고/gettyimages-922131550-612x612.jpg', '/content/drive/MyDrive/data/교통사고/gettyimages-450563989-612x612.jpg', '/content/drive/MyDrive/data/교통사고/gettybs-1154522859-612x612.jpg', '/content/drive/MyDrive/data/교통사고/overturned-truck-16337011.jpg', '/content/drive/MyDrive/data/교통사고/istockphoto-90201031-612x612.jpg', '/content/drive/MyDrive/data/교통사고/istockphoto-89919214-612x612.jpg', '/content/drive/MyDrive/data/교통사고/istockphoto-892679050-612x612.jpg', '/content/drive/MyDrive/data/교통사고/truck-accident-9008510.jpg', '/content/drive/MyDrive/data/교통사고/my9rt4.jpg', '/content/drive/MyDrive/data/교통사고/istockphoto-538776239-612x612.jpg', '/content/drive/MyDrive/data/교통사고/w9mxft.jpg', '/content/drive/MyDrive/data/교통사고/istockphoto-854032318-612x612.jpg', '/content/drive/MyDrive/data/교통사고/jcnxje.jpg', '/content/drive/MyDrive/data/교통사고/istockphoto-841937898-612x612.jpg', '/content/drive/MyDrive/data/교통사고/istockphoto-907880570-612x612.jpg', '/content/drive/MyDrive/data/교통사고/istockphoto-618517906-612x612.jpg', '/content/drive/MyDrive/data/교통사고/s2nrmg.jpg', '/content/drive/MyDrive/data/교통사고/m3xyhk.jpg', '/content/drive/MyDrive/data/교통사고/istockphoto-523830845-612x612.jpg', '/content/drive/MyDrive/data/교통사고/istockphoto-892674420-612x612.jpg', '/content/drive/MyDrive/data/교통사고/istockphoto-514569380-612x612.jpg', '/content/drive/MyDrive/data/교통사고/istockphoto-959039026-612x612.jpg', '/content/drive/MyDrive/data/교통사고/mb336h.jpg', '/content/drive/MyDrive/data/교통사고/pexels-sue-rickhuss-5059351.jpg', '/content/drive/MyDrive/data/교통사고/istockphoto-518198839-612x612.jpg', '/content/drive/MyDrive/data/교통사고/istockphoto-969500140-612x612.jpg', '/content/drive/MyDrive/data/교통사고/mxrbxt.jpg', '/content/drive/MyDrive/data/교통사고/p9efnf.jpg', '/content/drive/MyDrive/data/교통사고/istockphoto-635923312-612x612.jpg', '/content/drive/MyDrive/data/교통사고/istockphoto-509673034-612x612.jpg', '/content/drive/MyDrive/data/교통사고/istockphoto-90201066-612x612.jpg', '/content/drive/MyDrive/data/교통사고/istockphoto-493437960-612x612.jpg', '/content/drive/MyDrive/data/교통사고/istockphoto-934071018-612x612.jpg', '/content/drive/MyDrive/data/교통사고/istockphoto-93539281-612x612.jpg', '/content/drive/MyDrive/data/교통사고/istockphoto-615994236-612x612.jpg', '/content/drive/MyDrive/data/교통사고/istockphoto-526245919-612x612.jpg', '/content/drive/MyDrive/data/교통사고/traffic-accident-3714420.jpg', '/content/drive/MyDrive/data/교통사고/istockphoto-960097890-612x612.jpg', '/content/drive/MyDrive/data/교통사고/istockphoto-958704476-612x612.jpg', '/content/drive/MyDrive/data/교통사고/kerpa6.jpg', '/content/drive/MyDrive/data/교통사고/istockphoto-660523594-612x612.jpg', '/content/drive/MyDrive/data/교통사고/istockphoto-605992634-612x612.jpg', '/content/drive/MyDrive/data/교통사고/m98443.jpg', '/content/drive/MyDrive/data/교통사고/istockphoto-996224182-612x612.jpg', '/content/drive/MyDrive/data/교통사고/s241pa.jpg', '/content/drive/MyDrive/data/교통사고/istockphoto-499229686-612x612.jpg', '/content/drive/MyDrive/data/교통사고/istockphoto-498078967-612x612.jpg', '/content/drive/MyDrive/data/교통사고/istockphoto-522604359-612x612.jpg', '/content/drive/MyDrive/data/교통사고/istockphoto-486836955-612x612.jpg', '/content/drive/MyDrive/data/교통사고/istockphoto-531332934-612x612.jpg', '/content/drive/MyDrive/data/교통사고/istockphoto-859250904-612x612.jpg', '/content/drive/MyDrive/data/교통사고/istockphoto-90201067-612x612.jpg', '/content/drive/MyDrive/data/교통사고/istockphoto-507139814-612x612.jpg', '/content/drive/MyDrive/data/교통사고/istockphoto-518276611-612x612.jpg', '/content/drive/MyDrive/data/교통사고/istockphoto-525209701-612x612.jpg', '/content/drive/MyDrive/data/교통사고/istockphoto-827555064-612x612.jpg', '/content/drive/MyDrive/data/교통사고/two-white-cars-were-badly-260nw-1541842313.jpg', '/content/drive/MyDrive/data/교통사고/istockphoto-498849301-612x612.jpg', '/content/drive/MyDrive/data/교통사고/istockphoto-968932642-612x612.jpg', '/content/drive/MyDrive/data/교통사고/istockphoto-867318368-612x612.jpg', '/content/drive/MyDrive/data/교통사고/istockphoto-96990827-612x612.jpg', '/content/drive/MyDrive/data/교통사고/istockphoto-959038906-612x612.jpg', '/content/drive/MyDrive/data/교통사고/istockphoto-90201035-612x612.jpg', '/content/drive/MyDrive/data/교통사고/istockphoto-683275368-612x612.jpg', '/content/drive/MyDrive/data/교통사고/school-bus-accident-yellow-rolled-over-as-result-highway-55438430.jpg', '/content/drive/MyDrive/data/교통사고/istockphoto-90201070-612x612.jpg', '/content/drive/MyDrive/data/교통사고/istockphoto-614347236-612x612.jpg', '/content/drive/MyDrive/data/교통사고/47.jpg', '/content/drive/MyDrive/data/교통사고/Screenshot_20210322235522_Instagram.jpg', '/content/drive/MyDrive/data/교통사고/70.jpg', '/content/drive/MyDrive/data/교통사고/63.jpg', '/content/drive/MyDrive/data/교통사고/b (6).jpg', '/content/drive/MyDrive/data/교통사고/images (2).jpg', '/content/drive/MyDrive/data/교통사고/images (88).jpg', '/content/drive/MyDrive/data/교통사고/the-car-that-met-with-an-accident-near-red-fort-423183.jpg', '/content/drive/MyDrive/data/교통사고/a106.jpg', '/content/drive/MyDrive/data/교통사고/download (5).jpg', '/content/drive/MyDrive/data/교통사고/images (75).jpg', '/content/drive/MyDrive/data/교통사고/images (30).jpg', '/content/drive/MyDrive/data/교통사고/images - 2022-04-22T102520.647.jpg', '/content/drive/MyDrive/data/교통사고/images (93).jpg', '/content/drive/MyDrive/data/교통사고/images (53).jpg', '/content/drive/MyDrive/data/교통사고/images (16).jpg', '/content/drive/MyDrive/data/교통사고/1333618_Wallpaper2.jpg', '/content/drive/MyDrive/data/교통사고/a49.jpg', '/content/drive/MyDrive/data/교통사고/images (51).jpg', '/content/drive/MyDrive/data/교통사고/images (14).jpg', '/content/drive/MyDrive/data/교통사고/a69.jpg', '/content/drive/MyDrive/data/교통사고/78.jpg', '/content/drive/MyDrive/data/교통사고/bs (36).jpg', '/content/drive/MyDrive/data/교통사고/pexels-photo-125514.jpg', '/content/drive/MyDrive/data/교통사고/a86.jpg', '/content/drive/MyDrive/data/교통사고/a90.jpg', '/content/drive/MyDrive/data/교통사고/images (29).jpg', '/content/drive/MyDrive/data/교통사고/images (91).jpg', '/content/drive/MyDrive/data/교통사고/a53.jpg', '/content/drive/MyDrive/data/교통사고/pexels-photo-4992447.jpg', '/content/drive/MyDrive/data/교통사고/bs (12).jpg', '/content/drive/MyDrive/data/교통사고/download.jpg', '/content/drive/MyDrive/data/교통사고/a110.jpg', '/content/drive/MyDrive/data/교통사고/images (48).jpg', '/content/drive/MyDrive/data/교통사고/download (3).jpg', '/content/drive/MyDrive/data/교통사고/images (73).jpg', '/content/drive/MyDrive/data/교통사고/a72.jpg', '/content/drive/MyDrive/data/교통사고/images (36).jpg', '/content/drive/MyDrive/data/교통사고/bentley-bentayga-accident.jpg', '/content/drive/MyDrive/data/교통사고/a64.jpg', '/content/drive/MyDrive/data/교통사고/download (7).jpg', '/content/drive/MyDrive/data/교통사고/images (77).jpg', '/content/drive/MyDrive/data/교통사고/61.jpg', '/content/drive/MyDrive/data/교통사고/a65.jpg', '/content/drive/MyDrive/data/교통사고/images - 2022-04-22T102404.351.jpg', '/content/drive/MyDrive/data/교통사고/images (32).jpg', '/content/drive/MyDrive/data/교통사고/a73.jpg', '/content/drive/MyDrive/data/교통사고/b (4).jpg', '/content/drive/MyDrive/data/교통사고/bs (34).jpg', '/content/drive/MyDrive/data/교통사고/bs (10).jpg', '/content/drive/MyDrive/data/교통사고/62.jpg', '/content/drive/MyDrive/data/교통사고/images (10).jpg', '/content/drive/MyDrive/data/교통사고/a68.jpg', '/content/drive/MyDrive/data/교통사고/images (68).jpg', '/content/drive/MyDrive/data/교통사고/i3ub9jd8_bengaluru-accident-650_625x300_07_December_21.jpg', '/content/drive/MyDrive/data/교통사고/a87.jpg', '/content/drive/MyDrive/data/교통사고/images (95).jpg', '/content/drive/MyDrive/data/교통사고/bs (32).jpg', '/content/drive/MyDrive/data/교통사고/chandigarh-chandigarh-december-accident-december-inspecting-hindustan_5460fc1a-047c-11e9-b709-b8f5f1e83cec.jpg', '/content/drive/MyDrive/data/교통사고/bs (8).jpg', '/content/drive/MyDrive/data/교통사고/bs (30).jpg', '/content/drive/MyDrive/data/교통사고/images (97).jpg', '/content/drive/MyDrive/data/교통사고/a48.jpg', '/content/drive/MyDrive/data/교통사고/20181016010405_Road-accidents.jpg', '/content/drive/MyDrive/data/교통사고/bs (48).jpg', '/content/drive/MyDrive/data/교통사고/images (57).jpg', '/content/drive/MyDrive/data/교통사고/images (12).jpg', '/content/drive/MyDrive/data/교통사고/images.jpg', '/content/drive/MyDrive/data/교통사고/bs (29).jpg', '/content/drive/MyDrive/data/교통사고/images (4).jpg', '/content/drive/MyDrive/data/교통사고/hyderabad-india-march-062017-people-gather-around-a-damaged-car-invovled-HT18T2.jpg', '/content/drive/MyDrive/data/교통사고/husband-wife-fight-while-driving-results-accident-4-1525702003.jpg', '/content/drive/MyDrive/data/교통사고/x11-1494487078-new-maruti-dzire-accident-in-gwalior4.jpg.pagespeed.ic_.CL47MYZiBX.jpg', '/content/drive/MyDrive/data/교통사고/images (52).jpg', '/content/drive/MyDrive/data/교통사고/images (17).jpg', '/content/drive/MyDrive/data/교통사고/a18.jpg', '/content/drive/MyDrive/data/교통사고/images (92).jpg', '/content/drive/MyDrive/data/교통사고/car-damage-car-accident-malshej-ghat-maharashtra-india-asia-ET0H5G.jpg', '/content/drive/MyDrive/data/교통사고/bs (35).jpg', '/content/drive/MyDrive/data/교통사고/b (2).jpg', '/content/drive/MyDrive/data/교통사고/a107.jpg', '/content/drive/MyDrive/data/교통사고/649254-mumbai-pune-expressway1.jpg', '/content/drive/MyDrive/data/교통사고/bs (16).jpg', '/content/drive/MyDrive/data/교통사고/images (34).jpg', '/content/drive/MyDrive/data/교통사고/images - 2022-04-22T102536.542.jpg', '/content/drive/MyDrive/data/교통사고/images (6).jpg', '/content/drive/MyDrive/data/교통사고/a52.jpg', '/content/drive/MyDrive/data/교통사고/images (71).jpg', '/content/drive/MyDrive/data/교통사고/download (1).jpg', '/content/drive/MyDrive/data/교통사고/images (55).jpg', '/content/drive/MyDrive/data/교통사고/a91.jpg', '/content/drive/MyDrive/data/교통사고/217895816.jpg.gallery.jpg', '/content/drive/MyDrive/data/교통사고/download (4).jpg', '/content/drive/MyDrive/data/교통사고/images (49).jpg', '/content/drive/MyDrive/data/교통사고/2019_4$largeimg26_Friday_2019_085608081.jpg', '/content/drive/MyDrive/data/교통사고/a100.jpg', '/content/drive/MyDrive/data/교통사고/b (7).jpg', '/content/drive/MyDrive/data/교통사고/a14.jpg', '/content/drive/MyDrive/data/교통사고/b (5).jpg', '/content/drive/MyDrive/data/교통사고/bs (13).jpg', '/content/drive/MyDrive/data/교통사고/Fortuner-Crash-front.jpg', '/content/drive/MyDrive/data/교통사고/bs (11).jpg', '/content/drive/MyDrive/data/교통사고/a63.jpg', '/content/drive/MyDrive/data/교통사고/100.jpg', '/content/drive/MyDrive/data/교통사고/a75.jpg', '/content/drive/MyDrive/data/교통사고/64.jpg', '/content/drive/MyDrive/data/교통사고/download (6).jpg', '/content/drive/MyDrive/data/교통사고/images (33).jpg', '/content/drive/MyDrive/data/교통사고/images (1).jpg', '/content/drive/MyDrive/data/교통사고/images (76).jpg', '/content/drive/MyDrive/data/교통사고/a22.jpg', '/content/drive/MyDrive/data/교통사고/a59.jpg', '/content/drive/MyDrive/data/교통사고/a81.jpg', '/content/drive/MyDrive/data/교통사고/images (100).jpg', '/content/drive/MyDrive/data/교통사고/images (54).jpg', '/content/drive/MyDrive/data/교통사고/images (11).jpg', '/content/drive/MyDrive/data/교통사고/images (90).jpg', '/content/drive/MyDrive/data/교통사고/nissan-magnite-accident-front-3-quarters-f362.jpg', '/content/drive/MyDrive/data/교통사고/car-crash.jpg', '/content/drive/MyDrive/data/교통사고/bs (37).jpg', '/content/drive/MyDrive/data/교통사고/images (28).jpg', '/content/drive/MyDrive/data/교통사고/a79.jpg', '/content/drive/MyDrive/data/교통사고/images (31).jpg', '/content/drive/MyDrive/data/교통사고/images (74).jpg', '/content/drive/MyDrive/data/교통사고/clp2bd5l66r61.jpg', '/content/drive/MyDrive/data/교통사고/images (3).jpg', '/content/drive/MyDrive/data/교통사고/images (89).jpg', '/content/drive/MyDrive/data/교통사고/road-accident-1.jpg', '/content/drive/MyDrive/data/교통사고/44.jpg', '/content/drive/MyDrive/data/교통사고/ambassador-car-wrecked-accident-highway-india-completely-crashed-asia-170557293.jpg', '/content/drive/MyDrive/data/교통사고/a55.jpg', '/content/drive/MyDrive/data/교통사고/images (50).jpg', '/content/drive/MyDrive/data/교통사고/images (15).jpg', '/content/drive/MyDrive/data/교통사고/a96.jpg', '/content/drive/MyDrive/data/교통사고/a80.jpg', '/content/drive/MyDrive/data/교통사고/the-car-that-met-with-an-accident-near-red-fort-423184.jpg', '/content/drive/MyDrive/data/교통사고/bs (17).jpg', '/content/drive/MyDrive/data/교통사고/b (3).jpg', '/content/drive/MyDrive/data/교통사고/a54.jpg', '/content/drive/MyDrive/data/교통사고/ford-ecosport-crash-test-accident-safety-1200x951.jpg', '/content/drive/MyDrive/data/교통사고/a78.jpg', '/content/drive/MyDrive/data/교통사고/bs (33).jpg', '/content/drive/MyDrive/data/교통사고/Bentley_PYFC.jpg', '/content/drive/MyDrive/data/교통사고/images (69).jpg', '/content/drive/MyDrive/data/교통사고/a97.jpg', '/content/drive/MyDrive/data/교통사고/images (94).jpg', '/content/drive/MyDrive/data/교통사고/58176060-0a19-11ec-b7a3-060c0b7322b5_1630413890146.jpg', '/content/drive/MyDrive/data/교통사고/a62.jpg', '/content/drive/MyDrive/data/교통사고/images (72).jpg', '/content/drive/MyDrive/data/교통사고/download (2).jpg', '/content/drive/MyDrive/data/교통사고/images (37).jpg', '/content/drive/MyDrive/data/교통사고/images - 2022-04-22T102354.981.jpg', '/content/drive/MyDrive/data/교통사고/images (70).jpg', '/content/drive/MyDrive/data/교통사고/thumb.jpg', '/content/drive/MyDrive/data/교통사고/images (35).jpg', '/content/drive/MyDrive/data/교통사고/53.jpg', '/content/drive/MyDrive/data/교통사고/images (7).jpg', '/content/drive/MyDrive/data/교통사고/istockphoto-523830845-170667a.jpg', '/content/drive/MyDrive/data/교통사고/a101.jpg', '/content/drive/MyDrive/data/교통사고/a15.jpg', '/content/drive/MyDrive/data/교통사고/a58.jpg', '/content/drive/MyDrive/data/교통사고/bs (15).jpg', '/content/drive/MyDrive/data/교통사고/PTI06_16_2021_000125B_1623984488449_1623984540848.jpg', '/content/drive/MyDrive/data/교통사고/Hyundai-Creta-Crash-accident-pics-3.jpg', '/content/drive/MyDrive/data/교통사고/b (1).jpg', '/content/drive/MyDrive/data/교통사고/a74.jpg', '/content/drive/MyDrive/data/교통사고/pexels-photo-4992460.jpg', '/content/drive/MyDrive/data/교통사고/istockphoto-850346406-612x612.jpg', '/content/drive/MyDrive/data/교통사고/images (5).jpg', '/content/drive/MyDrive/data/교통사고/a19.jpg', '/content/drive/MyDrive/data/교통사고/FB_IMG_1437648721808.jpg', '/content/drive/MyDrive/data/교통사고/bs (31).jpg', '/content/drive/MyDrive/data/교통사고/bs (9).jpg', '/content/drive/MyDrive/data/교통사고/images (96).jpg', '/content/drive/MyDrive/data/교통사고/Multiple_Car_Accident_-_Rabindra_Sadan_Area_-_Kolkata_2012-06-13_01320.jpg', '/content/drive/MyDrive/data/교통사고/a20.jpg', '/content/drive/MyDrive/data/교통사고/bs (5).jpg', '/content/drive/MyDrive/data/교통사고/a98.jpg', '/content/drive/MyDrive/data/교통사고/images (22).jpg', '/content/drive/MyDrive/data/교통사고/optimize.jpg', '/content/drive/MyDrive/data/교통사고/images (67).jpg', '/content/drive/MyDrive/data/교통사고/a77.jpg', '/content/drive/MyDrive/data/교통사고/Maruti-Vitara-Brezza-Crash-1200x900.jpg', '/content/drive/MyDrive/data/교통사고/a61.jpg', '/content/drive/MyDrive/data/교통사고/file7iqh49d2rltmfmu7bpt-1-1058680-1638933739.jpg', '/content/drive/MyDrive/data/교통사고/bs (45).jpg', '/content/drive/MyDrive/data/교통사고/659-luxury-car-bentley-driven-by-ponty-chadha-s-nephew-hits-auto-rickshaw-image-88005500_20190219_037.jpg', '/content/drive/MyDrive/data/교통사고/images (56).jpg', '/content/drive/MyDrive/data/교통사고/images (13).jpg', '/content/drive/MyDrive/data/교통사고/images (9).jpg', '/content/drive/MyDrive/data/교통사고/bs (26).jpg', '/content/drive/MyDrive/data/교통사고/images (83).jpg', '/content/drive/MyDrive/data/교통사고/mercedes-g63-amg-crash_827x510_41494414405.jpg', '/content/drive/MyDrive/data/교통사고/bengaluru-accident.jpg', '/content/drive/MyDrive/data/교통사고/bs (24).jpg', '/content/drive/MyDrive/data/교통사고/Kia_Seltos_crash_1200x768.jpg', '/content/drive/MyDrive/data/교통사고/save1632377161315.jpg', '/content/drive/MyDrive/data/교통사고/images (43).jpg', '/content/drive/MyDrive/data/교통사고/bs (19).jpg', '/content/drive/MyDrive/data/교통사고/a102.jpg', '/content/drive/MyDrive/data/교통사고/images - 2022-04-22T102515.792.jpg', '/content/drive/MyDrive/data/교통사고/bs (47).jpg', '/content/drive/MyDrive/data/교통사고/images (65).jpg', '/content/drive/MyDrive/data/교통사고/images - 2022-04-22T102438.757.jpg', '/content/drive/MyDrive/data/교통사고/images (98).jpg', '/content/drive/MyDrive/data/교통사고/images (20).jpg', '/content/drive/MyDrive/data/교통사고/bs (7).jpg', '/content/drive/MyDrive/data/교통사고/a57.jpg', '/content/drive/MyDrive/data/교통사고/dc-Cover-8utc0tkks51d4pjkjesmv7rnv1-20170511021709.Medi.jpg', '/content/drive/MyDrive/data/교통사고/images (41).jpg', '/content/drive/MyDrive/data/교통사고/a82.jpg', '/content/drive/MyDrive/data/교통사고/a94.jpg', '/content/drive/MyDrive/data/교통사고/images (39).jpg', '/content/drive/MyDrive/data/교통사고/images (81).jpg', '/content/drive/MyDrive/data/교통사고/2012 jaguar XF diesel accident car for sale 1000km only .jpg', '/content/drive/MyDrive/data/교통사고/bs (43).jpg', '/content/drive/MyDrive/data/교통사고/a17.jpg', '/content/drive/MyDrive/data/교통사고/bs (3).jpg', '/content/drive/MyDrive/data/교통사고/images (19).jpg', '/content/drive/MyDrive/data/교통사고/a103.jpg', '/content/drive/MyDrive/data/교통사고/786979-truck-accident-01.jpg', '/content/drive/MyDrive/data/교통사고/images (24).jpg', '/content/drive/MyDrive/data/교통사고/images (61).jpg', '/content/drive/MyDrive/data/교통사고/images (58).jpg', '/content/drive/MyDrive/data/교통사고/people-watching-car-damaged-in-accident-at-bombay-mumbai-maharashtra-ERYTG6.jpg', '/content/drive/MyDrive/data/교통사고/a83.jpg', '/content/drive/MyDrive/data/교통사고/201476319.jpg.gallery.jpg', '/content/drive/MyDrive/data/교통사고/pexels-photo-8540601.jpg', '/content/drive/MyDrive/data/교통사고/bs (22).jpg', '/content/drive/MyDrive/data/교통사고/mandu-india-february-white-car-severely-damaged-accident-parked-street-white-car-severely-damaged-accident-parked-118958568.jpg', '/content/drive/MyDrive/data/교통사고/a95.jpg', '/content/drive/MyDrive/data/교통사고/images (78).jpg', '/content/drive/MyDrive/data/교통사고/images (85).jpg', '/content/drive/MyDrive/data/교통사고/download (8).jpg', '/content/drive/MyDrive/data/교통사고/a56.jpg', '/content/drive/MyDrive/data/교통사고/bs (41).jpg', '/content/drive/MyDrive/data/교통사고/a76.jpg', '/content/drive/MyDrive/data/교통사고/a99.jpg', '/content/drive/MyDrive/data/교통사고/a21.jpg', '/content/drive/MyDrive/data/교통사고/images - 2022-04-22T102431.088.jpg', '/content/drive/MyDrive/data/교통사고/bs (20).jpg', '/content/drive/MyDrive/data/교통사고/images (87).jpg', '/content/drive/MyDrive/data/교통사고/b (9).jpg', '/content/drive/MyDrive/data/교통사고/images (47).jpg', '/content/drive/MyDrive/data/교통사고/images (45).jpg', '/content/drive/MyDrive/data/교통사고/mumbai-pune-759.jpg', '/content/drive/MyDrive/data/교통사고/images (63).jpg', '/content/drive/MyDrive/data/교통사고/images (26).jpg', '/content/drive/MyDrive/data/교통사고/b.jpg', '/content/drive/MyDrive/data/교통사고/a60.jpg', '/content/drive/MyDrive/data/교통사고/images - 2022-04-22T102410.014.jpg', '/content/drive/MyDrive/data/교통사고/bs (39).jpg', '/content/drive/MyDrive/data/교통사고/ACCIDENT-1.jpg', '/content/drive/MyDrive/data/교통사고/images (59).jpg', '/content/drive/MyDrive/data/교통사고/bs (27).jpg', '/content/drive/MyDrive/data/교통사고/a92.jpg', '/content/drive/MyDrive/data/교통사고/29080.jpg', '/content/drive/MyDrive/data/교통사고/pexels-photo-7324075.jpg', '/content/drive/MyDrive/data/교통사고/images (38).jpg', '/content/drive/MyDrive/data/교통사고/images (80).jpg', '/content/drive/MyDrive/data/교통사고/2021_11$largeimg_1007750251.jpg', '/content/drive/MyDrive/data/교통사고/a84.jpg', '/content/drive/MyDrive/data/교통사고/toyota-innova-crash-incomplete-flyover-24-1511529050.jpg', '/content/drive/MyDrive/data/교통사고/images (40).jpg', '/content/drive/MyDrive/data/교통사고/28-1503912569-jeep-compass-first-crash-in-india-1.jpg', '/content/drive/MyDrive/data/교통사고/a47.jpg', '/content/drive/MyDrive/data/교통사고/images (21).jpg', '/content/drive/MyDrive/data/교통사고/images (64).jpg', '/content/drive/MyDrive/data/교통사고/Accident.jpg', '/content/drive/MyDrive/data/교통사고/bs (6).jpg', '/content/drive/MyDrive/data/교통사고/images (99).jpg', '/content/drive/MyDrive/data/교통사고/bs (46).jpg', '/content/drive/MyDrive/data/교통사고/a104.jpg', '/content/drive/MyDrive/data/교통사고/a51.jpg', '/content/drive/MyDrive/data/교통사고/a71.jpg', '/content/drive/MyDrive/data/교통사고/bs (4).jpg', '/content/drive/MyDrive/data/교통사고/images (23).jpg', '/content/drive/MyDrive/data/교통사고/images (66).jpg', '/content/drive/MyDrive/data/교통사고/a67.jpg', '/content/drive/MyDrive/data/교통사고/a88.jpg', '/content/drive/MyDrive/data/교통사고/pexels-photo-5059351.jpg', '/content/drive/MyDrive/data/교통사고/images - 2022-04-22T102400.263.jpg', '/content/drive/MyDrive/data/교통사고/a108.jpg', '/content/drive/MyDrive/data/교통사고/bs (18).jpg', '/content/drive/MyDrive/data/교통사고/istockphoto-1161060936-612x612.jpg', '/content/drive/MyDrive/data/교통사고/bs (25).jpg', '/content/drive/MyDrive/data/교통사고/images (8).jpg', '/content/drive/MyDrive/data/교통사고/gettyimages-157561077-612x612.jpg', '/content/drive/MyDrive/data/교통사고/images (82).jpg', '/content/drive/MyDrive/data/교통사고/bs (44).jpg', '/content/drive/MyDrive/data/교통사고/bs (38).jpg', '/content/drive/MyDrive/data/교통사고/car-damage-accident-at-malshej-ghat-maharashtra-india-asia-ET0Y8C.jpg', '/content/drive/MyDrive/data/교통사고/images (62).jpg', '/content/drive/MyDrive/data/교통사고/b (8).jpg', '/content/drive/MyDrive/data/교통사고/images (27).jpg', '/content/drive/MyDrive/data/교통사고/images (46).jpg', '/content/drive/MyDrive/data/교통사고/images (86).jpg', '/content/drive/MyDrive/data/교통사고/a109.jpg', '/content/drive/MyDrive/data/교통사고/bs (21).jpg', '/content/drive/MyDrive/data/교통사고/images (42).jpg', '/content/drive/MyDrive/data/교통사고/images - 2022-04-22T102507.574.jpg', '/content/drive/MyDrive/data/교통사고/Unknown.jpg', '/content/drive/MyDrive/data/교통사고/pexels-photo-7958578.jpg', '/content/drive/MyDrive/data/교통사고/bs (40).jpg', '/content/drive/MyDrive/data/교통사고/a89.jpg', '/content/drive/MyDrive/data/교통사고/a66.jpg', '/content/drive/MyDrive/data/교통사고/10991341_1031593460192465_3429495763195657375_n.jpg', '/content/drive/MyDrive/data/교통사고/a50.jpg', '/content/drive/MyDrive/data/교통사고/bs (2).jpg', '/content/drive/MyDrive/data/교통사고/images (25).jpg', '/content/drive/MyDrive/data/교통사고/images (18).jpg', '/content/drive/MyDrive/data/교통사고/images (60).jpg', '/content/drive/MyDrive/data/교통사고/a105.jpg', '/content/drive/MyDrive/data/교통사고/Car-Crash-Punjab.jpg', '/content/drive/MyDrive/data/교통사고/images - 2022-04-22T102446.811.jpg', '/content/drive/MyDrive/data/교통사고/images - 2022-04-22T102503.258.jpg', '/content/drive/MyDrive/data/교통사고/90.jpg', '/content/drive/MyDrive/data/교통사고/bs (42).jpg', '/content/drive/MyDrive/data/교통사고/pexels-photo-4992452.jpg', '/content/drive/MyDrive/data/교통사고/range-rover-velar-crash-india-4.jpg', '/content/drive/MyDrive/data/교통사고/K3ZLA7YAGBFSJI54VJ2P44DBQA.jpg', '/content/drive/MyDrive/data/교통사고/bs (23).jpg', '/content/drive/MyDrive/data/교통사고/images (79).jpg', '/content/drive/MyDrive/data/교통사고/istockphoto-157180797-170667a.jpg', '/content/drive/MyDrive/data/교통사고/105.jpg', '/content/drive/MyDrive/data/교통사고/D9UMOZQUcAAH8oy.jpg', '/content/drive/MyDrive/data/교통사고/car-1538367868-1551592722.jpg', '/content/drive/MyDrive/data/교통사고/a93.jpg', '/content/drive/MyDrive/data/교통사고/images (44).jpg', '/content/drive/MyDrive/data/교통사고/download (9).jpg', '/content/drive/MyDrive/data/교통사고/Accident-Moga-man-killed.jpg', '/content/drive/MyDrive/data/교통사고/images (84).jpg', '/content/drive/MyDrive/data/교통사고/gettyimages-1218413289-612x612.jpg']\n"
          ]
        }
      ]
    },
    {
      "cell_type": "code",
      "source": [
        "def target_gen(len_num, target_list, target_cat):\n",
        "  b = len_num\n",
        "  for i in range(b):\n",
        "    target_list.append(target_cat)\n",
        "  target_array = np.array(target_list)\n",
        "  img_list.clear()\n",
        "  return target_array\n",
        "\n",
        "img_list = []\n",
        "\n",
        "building_fire_target = target_gen(len(building_fire), img_list, 1)\n",
        "traffic_accident_target = target_gen(len(traffic_accident), img_list, 3)\n",
        "forest_fires_target = target_gen(len(forest_fires), img_list, 2)\n",
        "car_fire_target = target_gen(len(car_fire), img_list, 0)"
      ],
      "metadata": {
        "id": "5PQN_o6VxkWc"
      },
      "execution_count": 12,
      "outputs": []
    },
    {
      "cell_type": "code",
      "source": [
        "target_data = np.concatenate([building_fire_target, traffic_accident_target, forest_fires_target, car_fire_target], axis=0)\n",
        "print(target_data.shape)"
      ],
      "metadata": {
        "id": "7myEjugT0gMa",
        "colab": {
          "base_uri": "https://localhost:8080/"
        },
        "outputId": "2cf2b9a7-cc74-4d86-d77b-402da5b7d14e"
      },
      "execution_count": 13,
      "outputs": [
        {
          "output_type": "stream",
          "name": "stdout",
          "text": [
            "(3276,)\n"
          ]
        }
      ]
    },
    {
      "cell_type": "code",
      "source": [
        "train_data = np.concatenate([building_fire, traffic_accident, forest_fires, car_fire], axis=0)\n",
        "print(train_data.shape)"
      ],
      "metadata": {
        "id": "QlUsKk19r7_m",
        "colab": {
          "base_uri": "https://localhost:8080/"
        },
        "outputId": "9047aa61-bf1d-4796-8131-423e89605850"
      },
      "execution_count": 14,
      "outputs": [
        {
          "output_type": "stream",
          "name": "stdout",
          "text": [
            "(3276, 224, 224, 3)\n"
          ]
        }
      ]
    },
    {
      "cell_type": "code",
      "source": [
        "X_train, X_val, Y_train, Y_val = train_test_split(train_data, target_data, test_size=0.2, shuffle=True)\n",
        "X_train, X_test, Y_train, Y_test = train_test_split(train_data, target_data, test_size=0.1, shuffle=True)"
      ],
      "metadata": {
        "id": "E7_2GpxQvvHo"
      },
      "execution_count": 15,
      "outputs": []
    },
    {
      "cell_type": "code",
      "source": [
        "base_model = tf.keras.applications.ResNet50(weights=\"imagenet\", include_top=False,\n",
        "                                           input_tensor = keras.layers.Input(shape = (224, 224, 3)))"
      ],
      "metadata": {
        "id": "JddkRGDd8rhz"
      },
      "execution_count": 16,
      "outputs": []
    },
    {
      "cell_type": "code",
      "source": [
        "base_model.summary()"
      ],
      "metadata": {
        "id": "jle9FgFy9FE7",
        "colab": {
          "base_uri": "https://localhost:8080/"
        },
        "outputId": "bf6b1910-0f23-47f6-d004-defa29887428"
      },
      "execution_count": 17,
      "outputs": [
        {
          "output_type": "stream",
          "name": "stdout",
          "text": [
            "Model: \"resnet50\"\n",
            "__________________________________________________________________________________________________\n",
            " Layer (type)                Output Shape                 Param #   Connected to                  \n",
            "==================================================================================================\n",
            " input_1 (InputLayer)        [(None, 224, 224, 3)]        0         []                            \n",
            "                                                                                                  \n",
            " conv1_pad (ZeroPadding2D)   (None, 230, 230, 3)          0         ['input_1[0][0]']             \n",
            "                                                                                                  \n",
            " conv1_conv (Conv2D)         (None, 112, 112, 64)         9472      ['conv1_pad[0][0]']           \n",
            "                                                                                                  \n",
            " conv1_bn (BatchNormalizati  (None, 112, 112, 64)         256       ['conv1_conv[0][0]']          \n",
            " on)                                                                                              \n",
            "                                                                                                  \n",
            " conv1_relu (Activation)     (None, 112, 112, 64)         0         ['conv1_bn[0][0]']            \n",
            "                                                                                                  \n",
            " pool1_pad (ZeroPadding2D)   (None, 114, 114, 64)         0         ['conv1_relu[0][0]']          \n",
            "                                                                                                  \n",
            " pool1_pool (MaxPooling2D)   (None, 56, 56, 64)           0         ['pool1_pad[0][0]']           \n",
            "                                                                                                  \n",
            " conv2_block1_1_conv (Conv2  (None, 56, 56, 64)           4160      ['pool1_pool[0][0]']          \n",
            " D)                                                                                               \n",
            "                                                                                                  \n",
            " conv2_block1_1_bn (BatchNo  (None, 56, 56, 64)           256       ['conv2_block1_1_conv[0][0]'] \n",
            " rmalization)                                                                                     \n",
            "                                                                                                  \n",
            " conv2_block1_1_relu (Activ  (None, 56, 56, 64)           0         ['conv2_block1_1_bn[0][0]']   \n",
            " ation)                                                                                           \n",
            "                                                                                                  \n",
            " conv2_block1_2_conv (Conv2  (None, 56, 56, 64)           36928     ['conv2_block1_1_relu[0][0]'] \n",
            " D)                                                                                               \n",
            "                                                                                                  \n",
            " conv2_block1_2_bn (BatchNo  (None, 56, 56, 64)           256       ['conv2_block1_2_conv[0][0]'] \n",
            " rmalization)                                                                                     \n",
            "                                                                                                  \n",
            " conv2_block1_2_relu (Activ  (None, 56, 56, 64)           0         ['conv2_block1_2_bn[0][0]']   \n",
            " ation)                                                                                           \n",
            "                                                                                                  \n",
            " conv2_block1_0_conv (Conv2  (None, 56, 56, 256)          16640     ['pool1_pool[0][0]']          \n",
            " D)                                                                                               \n",
            "                                                                                                  \n",
            " conv2_block1_3_conv (Conv2  (None, 56, 56, 256)          16640     ['conv2_block1_2_relu[0][0]'] \n",
            " D)                                                                                               \n",
            "                                                                                                  \n",
            " conv2_block1_0_bn (BatchNo  (None, 56, 56, 256)          1024      ['conv2_block1_0_conv[0][0]'] \n",
            " rmalization)                                                                                     \n",
            "                                                                                                  \n",
            " conv2_block1_3_bn (BatchNo  (None, 56, 56, 256)          1024      ['conv2_block1_3_conv[0][0]'] \n",
            " rmalization)                                                                                     \n",
            "                                                                                                  \n",
            " conv2_block1_add (Add)      (None, 56, 56, 256)          0         ['conv2_block1_0_bn[0][0]',   \n",
            "                                                                     'conv2_block1_3_bn[0][0]']   \n",
            "                                                                                                  \n",
            " conv2_block1_out (Activati  (None, 56, 56, 256)          0         ['conv2_block1_add[0][0]']    \n",
            " on)                                                                                              \n",
            "                                                                                                  \n",
            " conv2_block2_1_conv (Conv2  (None, 56, 56, 64)           16448     ['conv2_block1_out[0][0]']    \n",
            " D)                                                                                               \n",
            "                                                                                                  \n",
            " conv2_block2_1_bn (BatchNo  (None, 56, 56, 64)           256       ['conv2_block2_1_conv[0][0]'] \n",
            " rmalization)                                                                                     \n",
            "                                                                                                  \n",
            " conv2_block2_1_relu (Activ  (None, 56, 56, 64)           0         ['conv2_block2_1_bn[0][0]']   \n",
            " ation)                                                                                           \n",
            "                                                                                                  \n",
            " conv2_block2_2_conv (Conv2  (None, 56, 56, 64)           36928     ['conv2_block2_1_relu[0][0]'] \n",
            " D)                                                                                               \n",
            "                                                                                                  \n",
            " conv2_block2_2_bn (BatchNo  (None, 56, 56, 64)           256       ['conv2_block2_2_conv[0][0]'] \n",
            " rmalization)                                                                                     \n",
            "                                                                                                  \n",
            " conv2_block2_2_relu (Activ  (None, 56, 56, 64)           0         ['conv2_block2_2_bn[0][0]']   \n",
            " ation)                                                                                           \n",
            "                                                                                                  \n",
            " conv2_block2_3_conv (Conv2  (None, 56, 56, 256)          16640     ['conv2_block2_2_relu[0][0]'] \n",
            " D)                                                                                               \n",
            "                                                                                                  \n",
            " conv2_block2_3_bn (BatchNo  (None, 56, 56, 256)          1024      ['conv2_block2_3_conv[0][0]'] \n",
            " rmalization)                                                                                     \n",
            "                                                                                                  \n",
            " conv2_block2_add (Add)      (None, 56, 56, 256)          0         ['conv2_block1_out[0][0]',    \n",
            "                                                                     'conv2_block2_3_bn[0][0]']   \n",
            "                                                                                                  \n",
            " conv2_block2_out (Activati  (None, 56, 56, 256)          0         ['conv2_block2_add[0][0]']    \n",
            " on)                                                                                              \n",
            "                                                                                                  \n",
            " conv2_block3_1_conv (Conv2  (None, 56, 56, 64)           16448     ['conv2_block2_out[0][0]']    \n",
            " D)                                                                                               \n",
            "                                                                                                  \n",
            " conv2_block3_1_bn (BatchNo  (None, 56, 56, 64)           256       ['conv2_block3_1_conv[0][0]'] \n",
            " rmalization)                                                                                     \n",
            "                                                                                                  \n",
            " conv2_block3_1_relu (Activ  (None, 56, 56, 64)           0         ['conv2_block3_1_bn[0][0]']   \n",
            " ation)                                                                                           \n",
            "                                                                                                  \n",
            " conv2_block3_2_conv (Conv2  (None, 56, 56, 64)           36928     ['conv2_block3_1_relu[0][0]'] \n",
            " D)                                                                                               \n",
            "                                                                                                  \n",
            " conv2_block3_2_bn (BatchNo  (None, 56, 56, 64)           256       ['conv2_block3_2_conv[0][0]'] \n",
            " rmalization)                                                                                     \n",
            "                                                                                                  \n",
            " conv2_block3_2_relu (Activ  (None, 56, 56, 64)           0         ['conv2_block3_2_bn[0][0]']   \n",
            " ation)                                                                                           \n",
            "                                                                                                  \n",
            " conv2_block3_3_conv (Conv2  (None, 56, 56, 256)          16640     ['conv2_block3_2_relu[0][0]'] \n",
            " D)                                                                                               \n",
            "                                                                                                  \n",
            " conv2_block3_3_bn (BatchNo  (None, 56, 56, 256)          1024      ['conv2_block3_3_conv[0][0]'] \n",
            " rmalization)                                                                                     \n",
            "                                                                                                  \n",
            " conv2_block3_add (Add)      (None, 56, 56, 256)          0         ['conv2_block2_out[0][0]',    \n",
            "                                                                     'conv2_block3_3_bn[0][0]']   \n",
            "                                                                                                  \n",
            " conv2_block3_out (Activati  (None, 56, 56, 256)          0         ['conv2_block3_add[0][0]']    \n",
            " on)                                                                                              \n",
            "                                                                                                  \n",
            " conv3_block1_1_conv (Conv2  (None, 28, 28, 128)          32896     ['conv2_block3_out[0][0]']    \n",
            " D)                                                                                               \n",
            "                                                                                                  \n",
            " conv3_block1_1_bn (BatchNo  (None, 28, 28, 128)          512       ['conv3_block1_1_conv[0][0]'] \n",
            " rmalization)                                                                                     \n",
            "                                                                                                  \n",
            " conv3_block1_1_relu (Activ  (None, 28, 28, 128)          0         ['conv3_block1_1_bn[0][0]']   \n",
            " ation)                                                                                           \n",
            "                                                                                                  \n",
            " conv3_block1_2_conv (Conv2  (None, 28, 28, 128)          147584    ['conv3_block1_1_relu[0][0]'] \n",
            " D)                                                                                               \n",
            "                                                                                                  \n",
            " conv3_block1_2_bn (BatchNo  (None, 28, 28, 128)          512       ['conv3_block1_2_conv[0][0]'] \n",
            " rmalization)                                                                                     \n",
            "                                                                                                  \n",
            " conv3_block1_2_relu (Activ  (None, 28, 28, 128)          0         ['conv3_block1_2_bn[0][0]']   \n",
            " ation)                                                                                           \n",
            "                                                                                                  \n",
            " conv3_block1_0_conv (Conv2  (None, 28, 28, 512)          131584    ['conv2_block3_out[0][0]']    \n",
            " D)                                                                                               \n",
            "                                                                                                  \n",
            " conv3_block1_3_conv (Conv2  (None, 28, 28, 512)          66048     ['conv3_block1_2_relu[0][0]'] \n",
            " D)                                                                                               \n",
            "                                                                                                  \n",
            " conv3_block1_0_bn (BatchNo  (None, 28, 28, 512)          2048      ['conv3_block1_0_conv[0][0]'] \n",
            " rmalization)                                                                                     \n",
            "                                                                                                  \n",
            " conv3_block1_3_bn (BatchNo  (None, 28, 28, 512)          2048      ['conv3_block1_3_conv[0][0]'] \n",
            " rmalization)                                                                                     \n",
            "                                                                                                  \n",
            " conv3_block1_add (Add)      (None, 28, 28, 512)          0         ['conv3_block1_0_bn[0][0]',   \n",
            "                                                                     'conv3_block1_3_bn[0][0]']   \n",
            "                                                                                                  \n",
            " conv3_block1_out (Activati  (None, 28, 28, 512)          0         ['conv3_block1_add[0][0]']    \n",
            " on)                                                                                              \n",
            "                                                                                                  \n",
            " conv3_block2_1_conv (Conv2  (None, 28, 28, 128)          65664     ['conv3_block1_out[0][0]']    \n",
            " D)                                                                                               \n",
            "                                                                                                  \n",
            " conv3_block2_1_bn (BatchNo  (None, 28, 28, 128)          512       ['conv3_block2_1_conv[0][0]'] \n",
            " rmalization)                                                                                     \n",
            "                                                                                                  \n",
            " conv3_block2_1_relu (Activ  (None, 28, 28, 128)          0         ['conv3_block2_1_bn[0][0]']   \n",
            " ation)                                                                                           \n",
            "                                                                                                  \n",
            " conv3_block2_2_conv (Conv2  (None, 28, 28, 128)          147584    ['conv3_block2_1_relu[0][0]'] \n",
            " D)                                                                                               \n",
            "                                                                                                  \n",
            " conv3_block2_2_bn (BatchNo  (None, 28, 28, 128)          512       ['conv3_block2_2_conv[0][0]'] \n",
            " rmalization)                                                                                     \n",
            "                                                                                                  \n",
            " conv3_block2_2_relu (Activ  (None, 28, 28, 128)          0         ['conv3_block2_2_bn[0][0]']   \n",
            " ation)                                                                                           \n",
            "                                                                                                  \n",
            " conv3_block2_3_conv (Conv2  (None, 28, 28, 512)          66048     ['conv3_block2_2_relu[0][0]'] \n",
            " D)                                                                                               \n",
            "                                                                                                  \n",
            " conv3_block2_3_bn (BatchNo  (None, 28, 28, 512)          2048      ['conv3_block2_3_conv[0][0]'] \n",
            " rmalization)                                                                                     \n",
            "                                                                                                  \n",
            " conv3_block2_add (Add)      (None, 28, 28, 512)          0         ['conv3_block1_out[0][0]',    \n",
            "                                                                     'conv3_block2_3_bn[0][0]']   \n",
            "                                                                                                  \n",
            " conv3_block2_out (Activati  (None, 28, 28, 512)          0         ['conv3_block2_add[0][0]']    \n",
            " on)                                                                                              \n",
            "                                                                                                  \n",
            " conv3_block3_1_conv (Conv2  (None, 28, 28, 128)          65664     ['conv3_block2_out[0][0]']    \n",
            " D)                                                                                               \n",
            "                                                                                                  \n",
            " conv3_block3_1_bn (BatchNo  (None, 28, 28, 128)          512       ['conv3_block3_1_conv[0][0]'] \n",
            " rmalization)                                                                                     \n",
            "                                                                                                  \n",
            " conv3_block3_1_relu (Activ  (None, 28, 28, 128)          0         ['conv3_block3_1_bn[0][0]']   \n",
            " ation)                                                                                           \n",
            "                                                                                                  \n",
            " conv3_block3_2_conv (Conv2  (None, 28, 28, 128)          147584    ['conv3_block3_1_relu[0][0]'] \n",
            " D)                                                                                               \n",
            "                                                                                                  \n",
            " conv3_block3_2_bn (BatchNo  (None, 28, 28, 128)          512       ['conv3_block3_2_conv[0][0]'] \n",
            " rmalization)                                                                                     \n",
            "                                                                                                  \n",
            " conv3_block3_2_relu (Activ  (None, 28, 28, 128)          0         ['conv3_block3_2_bn[0][0]']   \n",
            " ation)                                                                                           \n",
            "                                                                                                  \n",
            " conv3_block3_3_conv (Conv2  (None, 28, 28, 512)          66048     ['conv3_block3_2_relu[0][0]'] \n",
            " D)                                                                                               \n",
            "                                                                                                  \n",
            " conv3_block3_3_bn (BatchNo  (None, 28, 28, 512)          2048      ['conv3_block3_3_conv[0][0]'] \n",
            " rmalization)                                                                                     \n",
            "                                                                                                  \n",
            " conv3_block3_add (Add)      (None, 28, 28, 512)          0         ['conv3_block2_out[0][0]',    \n",
            "                                                                     'conv3_block3_3_bn[0][0]']   \n",
            "                                                                                                  \n",
            " conv3_block3_out (Activati  (None, 28, 28, 512)          0         ['conv3_block3_add[0][0]']    \n",
            " on)                                                                                              \n",
            "                                                                                                  \n",
            " conv3_block4_1_conv (Conv2  (None, 28, 28, 128)          65664     ['conv3_block3_out[0][0]']    \n",
            " D)                                                                                               \n",
            "                                                                                                  \n",
            " conv3_block4_1_bn (BatchNo  (None, 28, 28, 128)          512       ['conv3_block4_1_conv[0][0]'] \n",
            " rmalization)                                                                                     \n",
            "                                                                                                  \n",
            " conv3_block4_1_relu (Activ  (None, 28, 28, 128)          0         ['conv3_block4_1_bn[0][0]']   \n",
            " ation)                                                                                           \n",
            "                                                                                                  \n",
            " conv3_block4_2_conv (Conv2  (None, 28, 28, 128)          147584    ['conv3_block4_1_relu[0][0]'] \n",
            " D)                                                                                               \n",
            "                                                                                                  \n",
            " conv3_block4_2_bn (BatchNo  (None, 28, 28, 128)          512       ['conv3_block4_2_conv[0][0]'] \n",
            " rmalization)                                                                                     \n",
            "                                                                                                  \n",
            " conv3_block4_2_relu (Activ  (None, 28, 28, 128)          0         ['conv3_block4_2_bn[0][0]']   \n",
            " ation)                                                                                           \n",
            "                                                                                                  \n",
            " conv3_block4_3_conv (Conv2  (None, 28, 28, 512)          66048     ['conv3_block4_2_relu[0][0]'] \n",
            " D)                                                                                               \n",
            "                                                                                                  \n",
            " conv3_block4_3_bn (BatchNo  (None, 28, 28, 512)          2048      ['conv3_block4_3_conv[0][0]'] \n",
            " rmalization)                                                                                     \n",
            "                                                                                                  \n",
            " conv3_block4_add (Add)      (None, 28, 28, 512)          0         ['conv3_block3_out[0][0]',    \n",
            "                                                                     'conv3_block4_3_bn[0][0]']   \n",
            "                                                                                                  \n",
            " conv3_block4_out (Activati  (None, 28, 28, 512)          0         ['conv3_block4_add[0][0]']    \n",
            " on)                                                                                              \n",
            "                                                                                                  \n",
            " conv4_block1_1_conv (Conv2  (None, 14, 14, 256)          131328    ['conv3_block4_out[0][0]']    \n",
            " D)                                                                                               \n",
            "                                                                                                  \n",
            " conv4_block1_1_bn (BatchNo  (None, 14, 14, 256)          1024      ['conv4_block1_1_conv[0][0]'] \n",
            " rmalization)                                                                                     \n",
            "                                                                                                  \n",
            " conv4_block1_1_relu (Activ  (None, 14, 14, 256)          0         ['conv4_block1_1_bn[0][0]']   \n",
            " ation)                                                                                           \n",
            "                                                                                                  \n",
            " conv4_block1_2_conv (Conv2  (None, 14, 14, 256)          590080    ['conv4_block1_1_relu[0][0]'] \n",
            " D)                                                                                               \n",
            "                                                                                                  \n",
            " conv4_block1_2_bn (BatchNo  (None, 14, 14, 256)          1024      ['conv4_block1_2_conv[0][0]'] \n",
            " rmalization)                                                                                     \n",
            "                                                                                                  \n",
            " conv4_block1_2_relu (Activ  (None, 14, 14, 256)          0         ['conv4_block1_2_bn[0][0]']   \n",
            " ation)                                                                                           \n",
            "                                                                                                  \n",
            " conv4_block1_0_conv (Conv2  (None, 14, 14, 1024)         525312    ['conv3_block4_out[0][0]']    \n",
            " D)                                                                                               \n",
            "                                                                                                  \n",
            " conv4_block1_3_conv (Conv2  (None, 14, 14, 1024)         263168    ['conv4_block1_2_relu[0][0]'] \n",
            " D)                                                                                               \n",
            "                                                                                                  \n",
            " conv4_block1_0_bn (BatchNo  (None, 14, 14, 1024)         4096      ['conv4_block1_0_conv[0][0]'] \n",
            " rmalization)                                                                                     \n",
            "                                                                                                  \n",
            " conv4_block1_3_bn (BatchNo  (None, 14, 14, 1024)         4096      ['conv4_block1_3_conv[0][0]'] \n",
            " rmalization)                                                                                     \n",
            "                                                                                                  \n",
            " conv4_block1_add (Add)      (None, 14, 14, 1024)         0         ['conv4_block1_0_bn[0][0]',   \n",
            "                                                                     'conv4_block1_3_bn[0][0]']   \n",
            "                                                                                                  \n",
            " conv4_block1_out (Activati  (None, 14, 14, 1024)         0         ['conv4_block1_add[0][0]']    \n",
            " on)                                                                                              \n",
            "                                                                                                  \n",
            " conv4_block2_1_conv (Conv2  (None, 14, 14, 256)          262400    ['conv4_block1_out[0][0]']    \n",
            " D)                                                                                               \n",
            "                                                                                                  \n",
            " conv4_block2_1_bn (BatchNo  (None, 14, 14, 256)          1024      ['conv4_block2_1_conv[0][0]'] \n",
            " rmalization)                                                                                     \n",
            "                                                                                                  \n",
            " conv4_block2_1_relu (Activ  (None, 14, 14, 256)          0         ['conv4_block2_1_bn[0][0]']   \n",
            " ation)                                                                                           \n",
            "                                                                                                  \n",
            " conv4_block2_2_conv (Conv2  (None, 14, 14, 256)          590080    ['conv4_block2_1_relu[0][0]'] \n",
            " D)                                                                                               \n",
            "                                                                                                  \n",
            " conv4_block2_2_bn (BatchNo  (None, 14, 14, 256)          1024      ['conv4_block2_2_conv[0][0]'] \n",
            " rmalization)                                                                                     \n",
            "                                                                                                  \n",
            " conv4_block2_2_relu (Activ  (None, 14, 14, 256)          0         ['conv4_block2_2_bn[0][0]']   \n",
            " ation)                                                                                           \n",
            "                                                                                                  \n",
            " conv4_block2_3_conv (Conv2  (None, 14, 14, 1024)         263168    ['conv4_block2_2_relu[0][0]'] \n",
            " D)                                                                                               \n",
            "                                                                                                  \n",
            " conv4_block2_3_bn (BatchNo  (None, 14, 14, 1024)         4096      ['conv4_block2_3_conv[0][0]'] \n",
            " rmalization)                                                                                     \n",
            "                                                                                                  \n",
            " conv4_block2_add (Add)      (None, 14, 14, 1024)         0         ['conv4_block1_out[0][0]',    \n",
            "                                                                     'conv4_block2_3_bn[0][0]']   \n",
            "                                                                                                  \n",
            " conv4_block2_out (Activati  (None, 14, 14, 1024)         0         ['conv4_block2_add[0][0]']    \n",
            " on)                                                                                              \n",
            "                                                                                                  \n",
            " conv4_block3_1_conv (Conv2  (None, 14, 14, 256)          262400    ['conv4_block2_out[0][0]']    \n",
            " D)                                                                                               \n",
            "                                                                                                  \n",
            " conv4_block3_1_bn (BatchNo  (None, 14, 14, 256)          1024      ['conv4_block3_1_conv[0][0]'] \n",
            " rmalization)                                                                                     \n",
            "                                                                                                  \n",
            " conv4_block3_1_relu (Activ  (None, 14, 14, 256)          0         ['conv4_block3_1_bn[0][0]']   \n",
            " ation)                                                                                           \n",
            "                                                                                                  \n",
            " conv4_block3_2_conv (Conv2  (None, 14, 14, 256)          590080    ['conv4_block3_1_relu[0][0]'] \n",
            " D)                                                                                               \n",
            "                                                                                                  \n",
            " conv4_block3_2_bn (BatchNo  (None, 14, 14, 256)          1024      ['conv4_block3_2_conv[0][0]'] \n",
            " rmalization)                                                                                     \n",
            "                                                                                                  \n",
            " conv4_block3_2_relu (Activ  (None, 14, 14, 256)          0         ['conv4_block3_2_bn[0][0]']   \n",
            " ation)                                                                                           \n",
            "                                                                                                  \n",
            " conv4_block3_3_conv (Conv2  (None, 14, 14, 1024)         263168    ['conv4_block3_2_relu[0][0]'] \n",
            " D)                                                                                               \n",
            "                                                                                                  \n",
            " conv4_block3_3_bn (BatchNo  (None, 14, 14, 1024)         4096      ['conv4_block3_3_conv[0][0]'] \n",
            " rmalization)                                                                                     \n",
            "                                                                                                  \n",
            " conv4_block3_add (Add)      (None, 14, 14, 1024)         0         ['conv4_block2_out[0][0]',    \n",
            "                                                                     'conv4_block3_3_bn[0][0]']   \n",
            "                                                                                                  \n",
            " conv4_block3_out (Activati  (None, 14, 14, 1024)         0         ['conv4_block3_add[0][0]']    \n",
            " on)                                                                                              \n",
            "                                                                                                  \n",
            " conv4_block4_1_conv (Conv2  (None, 14, 14, 256)          262400    ['conv4_block3_out[0][0]']    \n",
            " D)                                                                                               \n",
            "                                                                                                  \n",
            " conv4_block4_1_bn (BatchNo  (None, 14, 14, 256)          1024      ['conv4_block4_1_conv[0][0]'] \n",
            " rmalization)                                                                                     \n",
            "                                                                                                  \n",
            " conv4_block4_1_relu (Activ  (None, 14, 14, 256)          0         ['conv4_block4_1_bn[0][0]']   \n",
            " ation)                                                                                           \n",
            "                                                                                                  \n",
            " conv4_block4_2_conv (Conv2  (None, 14, 14, 256)          590080    ['conv4_block4_1_relu[0][0]'] \n",
            " D)                                                                                               \n",
            "                                                                                                  \n",
            " conv4_block4_2_bn (BatchNo  (None, 14, 14, 256)          1024      ['conv4_block4_2_conv[0][0]'] \n",
            " rmalization)                                                                                     \n",
            "                                                                                                  \n",
            " conv4_block4_2_relu (Activ  (None, 14, 14, 256)          0         ['conv4_block4_2_bn[0][0]']   \n",
            " ation)                                                                                           \n",
            "                                                                                                  \n",
            " conv4_block4_3_conv (Conv2  (None, 14, 14, 1024)         263168    ['conv4_block4_2_relu[0][0]'] \n",
            " D)                                                                                               \n",
            "                                                                                                  \n",
            " conv4_block4_3_bn (BatchNo  (None, 14, 14, 1024)         4096      ['conv4_block4_3_conv[0][0]'] \n",
            " rmalization)                                                                                     \n",
            "                                                                                                  \n",
            " conv4_block4_add (Add)      (None, 14, 14, 1024)         0         ['conv4_block3_out[0][0]',    \n",
            "                                                                     'conv4_block4_3_bn[0][0]']   \n",
            "                                                                                                  \n",
            " conv4_block4_out (Activati  (None, 14, 14, 1024)         0         ['conv4_block4_add[0][0]']    \n",
            " on)                                                                                              \n",
            "                                                                                                  \n",
            " conv4_block5_1_conv (Conv2  (None, 14, 14, 256)          262400    ['conv4_block4_out[0][0]']    \n",
            " D)                                                                                               \n",
            "                                                                                                  \n",
            " conv4_block5_1_bn (BatchNo  (None, 14, 14, 256)          1024      ['conv4_block5_1_conv[0][0]'] \n",
            " rmalization)                                                                                     \n",
            "                                                                                                  \n",
            " conv4_block5_1_relu (Activ  (None, 14, 14, 256)          0         ['conv4_block5_1_bn[0][0]']   \n",
            " ation)                                                                                           \n",
            "                                                                                                  \n",
            " conv4_block5_2_conv (Conv2  (None, 14, 14, 256)          590080    ['conv4_block5_1_relu[0][0]'] \n",
            " D)                                                                                               \n",
            "                                                                                                  \n",
            " conv4_block5_2_bn (BatchNo  (None, 14, 14, 256)          1024      ['conv4_block5_2_conv[0][0]'] \n",
            " rmalization)                                                                                     \n",
            "                                                                                                  \n",
            " conv4_block5_2_relu (Activ  (None, 14, 14, 256)          0         ['conv4_block5_2_bn[0][0]']   \n",
            " ation)                                                                                           \n",
            "                                                                                                  \n",
            " conv4_block5_3_conv (Conv2  (None, 14, 14, 1024)         263168    ['conv4_block5_2_relu[0][0]'] \n",
            " D)                                                                                               \n",
            "                                                                                                  \n",
            " conv4_block5_3_bn (BatchNo  (None, 14, 14, 1024)         4096      ['conv4_block5_3_conv[0][0]'] \n",
            " rmalization)                                                                                     \n",
            "                                                                                                  \n",
            " conv4_block5_add (Add)      (None, 14, 14, 1024)         0         ['conv4_block4_out[0][0]',    \n",
            "                                                                     'conv4_block5_3_bn[0][0]']   \n",
            "                                                                                                  \n",
            " conv4_block5_out (Activati  (None, 14, 14, 1024)         0         ['conv4_block5_add[0][0]']    \n",
            " on)                                                                                              \n",
            "                                                                                                  \n",
            " conv4_block6_1_conv (Conv2  (None, 14, 14, 256)          262400    ['conv4_block5_out[0][0]']    \n",
            " D)                                                                                               \n",
            "                                                                                                  \n",
            " conv4_block6_1_bn (BatchNo  (None, 14, 14, 256)          1024      ['conv4_block6_1_conv[0][0]'] \n",
            " rmalization)                                                                                     \n",
            "                                                                                                  \n",
            " conv4_block6_1_relu (Activ  (None, 14, 14, 256)          0         ['conv4_block6_1_bn[0][0]']   \n",
            " ation)                                                                                           \n",
            "                                                                                                  \n",
            " conv4_block6_2_conv (Conv2  (None, 14, 14, 256)          590080    ['conv4_block6_1_relu[0][0]'] \n",
            " D)                                                                                               \n",
            "                                                                                                  \n",
            " conv4_block6_2_bn (BatchNo  (None, 14, 14, 256)          1024      ['conv4_block6_2_conv[0][0]'] \n",
            " rmalization)                                                                                     \n",
            "                                                                                                  \n",
            " conv4_block6_2_relu (Activ  (None, 14, 14, 256)          0         ['conv4_block6_2_bn[0][0]']   \n",
            " ation)                                                                                           \n",
            "                                                                                                  \n",
            " conv4_block6_3_conv (Conv2  (None, 14, 14, 1024)         263168    ['conv4_block6_2_relu[0][0]'] \n",
            " D)                                                                                               \n",
            "                                                                                                  \n",
            " conv4_block6_3_bn (BatchNo  (None, 14, 14, 1024)         4096      ['conv4_block6_3_conv[0][0]'] \n",
            " rmalization)                                                                                     \n",
            "                                                                                                  \n",
            " conv4_block6_add (Add)      (None, 14, 14, 1024)         0         ['conv4_block5_out[0][0]',    \n",
            "                                                                     'conv4_block6_3_bn[0][0]']   \n",
            "                                                                                                  \n",
            " conv4_block6_out (Activati  (None, 14, 14, 1024)         0         ['conv4_block6_add[0][0]']    \n",
            " on)                                                                                              \n",
            "                                                                                                  \n",
            " conv5_block1_1_conv (Conv2  (None, 7, 7, 512)            524800    ['conv4_block6_out[0][0]']    \n",
            " D)                                                                                               \n",
            "                                                                                                  \n",
            " conv5_block1_1_bn (BatchNo  (None, 7, 7, 512)            2048      ['conv5_block1_1_conv[0][0]'] \n",
            " rmalization)                                                                                     \n",
            "                                                                                                  \n",
            " conv5_block1_1_relu (Activ  (None, 7, 7, 512)            0         ['conv5_block1_1_bn[0][0]']   \n",
            " ation)                                                                                           \n",
            "                                                                                                  \n",
            " conv5_block1_2_conv (Conv2  (None, 7, 7, 512)            2359808   ['conv5_block1_1_relu[0][0]'] \n",
            " D)                                                                                               \n",
            "                                                                                                  \n",
            " conv5_block1_2_bn (BatchNo  (None, 7, 7, 512)            2048      ['conv5_block1_2_conv[0][0]'] \n",
            " rmalization)                                                                                     \n",
            "                                                                                                  \n",
            " conv5_block1_2_relu (Activ  (None, 7, 7, 512)            0         ['conv5_block1_2_bn[0][0]']   \n",
            " ation)                                                                                           \n",
            "                                                                                                  \n",
            " conv5_block1_0_conv (Conv2  (None, 7, 7, 2048)           2099200   ['conv4_block6_out[0][0]']    \n",
            " D)                                                                                               \n",
            "                                                                                                  \n",
            " conv5_block1_3_conv (Conv2  (None, 7, 7, 2048)           1050624   ['conv5_block1_2_relu[0][0]'] \n",
            " D)                                                                                               \n",
            "                                                                                                  \n",
            " conv5_block1_0_bn (BatchNo  (None, 7, 7, 2048)           8192      ['conv5_block1_0_conv[0][0]'] \n",
            " rmalization)                                                                                     \n",
            "                                                                                                  \n",
            " conv5_block1_3_bn (BatchNo  (None, 7, 7, 2048)           8192      ['conv5_block1_3_conv[0][0]'] \n",
            " rmalization)                                                                                     \n",
            "                                                                                                  \n",
            " conv5_block1_add (Add)      (None, 7, 7, 2048)           0         ['conv5_block1_0_bn[0][0]',   \n",
            "                                                                     'conv5_block1_3_bn[0][0]']   \n",
            "                                                                                                  \n",
            " conv5_block1_out (Activati  (None, 7, 7, 2048)           0         ['conv5_block1_add[0][0]']    \n",
            " on)                                                                                              \n",
            "                                                                                                  \n",
            " conv5_block2_1_conv (Conv2  (None, 7, 7, 512)            1049088   ['conv5_block1_out[0][0]']    \n",
            " D)                                                                                               \n",
            "                                                                                                  \n",
            " conv5_block2_1_bn (BatchNo  (None, 7, 7, 512)            2048      ['conv5_block2_1_conv[0][0]'] \n",
            " rmalization)                                                                                     \n",
            "                                                                                                  \n",
            " conv5_block2_1_relu (Activ  (None, 7, 7, 512)            0         ['conv5_block2_1_bn[0][0]']   \n",
            " ation)                                                                                           \n",
            "                                                                                                  \n",
            " conv5_block2_2_conv (Conv2  (None, 7, 7, 512)            2359808   ['conv5_block2_1_relu[0][0]'] \n",
            " D)                                                                                               \n",
            "                                                                                                  \n",
            " conv5_block2_2_bn (BatchNo  (None, 7, 7, 512)            2048      ['conv5_block2_2_conv[0][0]'] \n",
            " rmalization)                                                                                     \n",
            "                                                                                                  \n",
            " conv5_block2_2_relu (Activ  (None, 7, 7, 512)            0         ['conv5_block2_2_bn[0][0]']   \n",
            " ation)                                                                                           \n",
            "                                                                                                  \n",
            " conv5_block2_3_conv (Conv2  (None, 7, 7, 2048)           1050624   ['conv5_block2_2_relu[0][0]'] \n",
            " D)                                                                                               \n",
            "                                                                                                  \n",
            " conv5_block2_3_bn (BatchNo  (None, 7, 7, 2048)           8192      ['conv5_block2_3_conv[0][0]'] \n",
            " rmalization)                                                                                     \n",
            "                                                                                                  \n",
            " conv5_block2_add (Add)      (None, 7, 7, 2048)           0         ['conv5_block1_out[0][0]',    \n",
            "                                                                     'conv5_block2_3_bn[0][0]']   \n",
            "                                                                                                  \n",
            " conv5_block2_out (Activati  (None, 7, 7, 2048)           0         ['conv5_block2_add[0][0]']    \n",
            " on)                                                                                              \n",
            "                                                                                                  \n",
            " conv5_block3_1_conv (Conv2  (None, 7, 7, 512)            1049088   ['conv5_block2_out[0][0]']    \n",
            " D)                                                                                               \n",
            "                                                                                                  \n",
            " conv5_block3_1_bn (BatchNo  (None, 7, 7, 512)            2048      ['conv5_block3_1_conv[0][0]'] \n",
            " rmalization)                                                                                     \n",
            "                                                                                                  \n",
            " conv5_block3_1_relu (Activ  (None, 7, 7, 512)            0         ['conv5_block3_1_bn[0][0]']   \n",
            " ation)                                                                                           \n",
            "                                                                                                  \n",
            " conv5_block3_2_conv (Conv2  (None, 7, 7, 512)            2359808   ['conv5_block3_1_relu[0][0]'] \n",
            " D)                                                                                               \n",
            "                                                                                                  \n",
            " conv5_block3_2_bn (BatchNo  (None, 7, 7, 512)            2048      ['conv5_block3_2_conv[0][0]'] \n",
            " rmalization)                                                                                     \n",
            "                                                                                                  \n",
            " conv5_block3_2_relu (Activ  (None, 7, 7, 512)            0         ['conv5_block3_2_bn[0][0]']   \n",
            " ation)                                                                                           \n",
            "                                                                                                  \n",
            " conv5_block3_3_conv (Conv2  (None, 7, 7, 2048)           1050624   ['conv5_block3_2_relu[0][0]'] \n",
            " D)                                                                                               \n",
            "                                                                                                  \n",
            " conv5_block3_3_bn (BatchNo  (None, 7, 7, 2048)           8192      ['conv5_block3_3_conv[0][0]'] \n",
            " rmalization)                                                                                     \n",
            "                                                                                                  \n",
            " conv5_block3_add (Add)      (None, 7, 7, 2048)           0         ['conv5_block2_out[0][0]',    \n",
            "                                                                     'conv5_block3_3_bn[0][0]']   \n",
            "                                                                                                  \n",
            " conv5_block3_out (Activati  (None, 7, 7, 2048)           0         ['conv5_block3_add[0][0]']    \n",
            " on)                                                                                              \n",
            "                                                                                                  \n",
            "==================================================================================================\n",
            "Total params: 23587712 (89.98 MB)\n",
            "Trainable params: 23534592 (89.78 MB)\n",
            "Non-trainable params: 53120 (207.50 KB)\n",
            "__________________________________________________________________________________________________\n"
          ]
        }
      ]
    },
    {
      "cell_type": "code",
      "source": [
        "fine_tuning_dt = 140"
      ],
      "metadata": {
        "id": "zavKPAuZBrFo"
      },
      "execution_count": 18,
      "outputs": []
    },
    {
      "cell_type": "code",
      "source": [
        "for layer in base_model.layers[:fine_tuning_dt]:\n",
        "  layer.trainable = False"
      ],
      "metadata": {
        "id": "VkU8G8R_9K_w"
      },
      "execution_count": 19,
      "outputs": []
    },
    {
      "cell_type": "code",
      "source": [
        "base_model.output"
      ],
      "metadata": {
        "id": "nJmypFvp9Rqu",
        "colab": {
          "base_uri": "https://localhost:8080/"
        },
        "outputId": "cecfd25a-8d11-4e38-ec47-486ea8f670cb"
      },
      "execution_count": 20,
      "outputs": [
        {
          "output_type": "execute_result",
          "data": {
            "text/plain": [
              "<KerasTensor: shape=(None, 7, 7, 2048) dtype=float32 (created by layer 'conv5_block3_out')>"
            ]
          },
          "metadata": {},
          "execution_count": 20
        }
      ]
    },
    {
      "cell_type": "code",
      "source": [
        "head_model = base_model.output\n",
        "head_model = keras.layers.Flatten()(head_model)\n",
        "head_model = keras.layers.Dense(units = 4096, activation=\"relu\")(head_model)\n",
        "head_model = keras.layers.Dropout(rate = 0.2)(head_model)\n",
        "head_model = keras.layers.Dense(units = 2048, activation=\"relu\")(head_model)\n",
        "head_model = keras.layers.Dropout(rate = 0.2)(head_model)\n",
        "head_model = keras.layers.Dense(units = 1024, activation=\"relu\")(head_model)\n",
        "head_model = keras.layers.Dropout(rate = 0.2)(head_model)\n",
        "head_model = keras.layers.Dense(units = 512, activation=\"relu\")(head_model)\n",
        "head_model = keras.layers.Dropout(rate = 0.2)(head_model)\n",
        "head_model = keras.layers.Dense(4, activation=\"softmax\")(head_model)"
      ],
      "metadata": {
        "id": "_CTj6-359V8_"
      },
      "execution_count": 21,
      "outputs": []
    },
    {
      "cell_type": "code",
      "source": [
        "model = Model(inputs = base_model.input, outputs = head_model)\n",
        "early_stopping = EarlyStopping(monitor='val_loss', patience=10, restore_best_weights=True)\n",
        "\n",
        "# initial_learning_rate = 0.01\n",
        "# lr_schedule = tf.keras.optimizers.schedules.ExponentialDecay(\n",
        "#     initial_learning_rate, decay_steps=10000, decay_rate=0.9, staircase=True)\n",
        "\n",
        "# optimizer = tf.keras.optimizers.Adam(learning_rate=lr_schedule)\n",
        "\n",
        "optimizer = tf.keras.optimizers.Adam(learning_rate = 1e-5)"
      ],
      "metadata": {
        "id": "1_ASwvq0-5bf"
      },
      "execution_count": 22,
      "outputs": []
    },
    {
      "cell_type": "code",
      "source": [
        "model.compile(optimizer=optimizer, loss=\"sparse_categorical_crossentropy\", metrics=[\"accuracy\"])"
      ],
      "metadata": {
        "id": "y22Sxxz6-9Io"
      },
      "execution_count": 23,
      "outputs": []
    },
    {
      "cell_type": "code",
      "source": [
        "history = model.fit(X_train, Y_train, epochs = 1000, batch_size=64, validation_data=[X_val, Y_val], callbacks=[early_stopping])"
      ],
      "metadata": {
        "id": "d_eDSIp3_PIa",
        "colab": {
          "base_uri": "https://localhost:8080/"
        },
        "outputId": "adb2b36e-89cc-4d78-efae-b43da14fcd63"
      },
      "execution_count": 24,
      "outputs": [
        {
          "output_type": "stream",
          "name": "stdout",
          "text": [
            "Epoch 1/1000\n",
            "47/47 [==============================] - 49s 586ms/step - loss: 0.6065 - accuracy: 0.7761 - val_loss: 0.0582 - val_accuracy: 0.9787\n",
            "Epoch 2/1000\n",
            "47/47 [==============================] - 22s 458ms/step - loss: 0.0833 - accuracy: 0.9725 - val_loss: 0.0105 - val_accuracy: 0.9970\n",
            "Epoch 3/1000\n",
            "47/47 [==============================] - 22s 463ms/step - loss: 0.0292 - accuracy: 0.9895 - val_loss: 0.0028 - val_accuracy: 0.9985\n",
            "Epoch 4/1000\n",
            "47/47 [==============================] - 23s 481ms/step - loss: 0.0245 - accuracy: 0.9929 - val_loss: 6.6872e-04 - val_accuracy: 1.0000\n",
            "Epoch 5/1000\n",
            "47/47 [==============================] - 21s 445ms/step - loss: 0.0085 - accuracy: 0.9990 - val_loss: 3.6942e-04 - val_accuracy: 1.0000\n",
            "Epoch 6/1000\n",
            "47/47 [==============================] - 19s 414ms/step - loss: 0.0095 - accuracy: 0.9973 - val_loss: 4.9087e-04 - val_accuracy: 1.0000\n",
            "Epoch 7/1000\n",
            "47/47 [==============================] - 21s 455ms/step - loss: 0.0041 - accuracy: 1.0000 - val_loss: 2.2139e-04 - val_accuracy: 1.0000\n",
            "Epoch 8/1000\n",
            "47/47 [==============================] - 21s 456ms/step - loss: 0.0027 - accuracy: 0.9997 - val_loss: 2.1430e-04 - val_accuracy: 1.0000\n",
            "Epoch 9/1000\n",
            "47/47 [==============================] - 21s 455ms/step - loss: 0.0046 - accuracy: 0.9990 - val_loss: 1.8882e-04 - val_accuracy: 1.0000\n",
            "Epoch 10/1000\n",
            "47/47 [==============================] - 19s 414ms/step - loss: 0.0033 - accuracy: 0.9990 - val_loss: 2.7471e-04 - val_accuracy: 1.0000\n",
            "Epoch 11/1000\n",
            "47/47 [==============================] - 19s 405ms/step - loss: 0.0019 - accuracy: 0.9997 - val_loss: 0.0012 - val_accuracy: 0.9985\n",
            "Epoch 12/1000\n",
            "47/47 [==============================] - 19s 415ms/step - loss: 0.0015 - accuracy: 0.9997 - val_loss: 0.0012 - val_accuracy: 0.9985\n",
            "Epoch 13/1000\n",
            "47/47 [==============================] - 19s 400ms/step - loss: 0.0048 - accuracy: 0.9990 - val_loss: 0.0029 - val_accuracy: 0.9985\n",
            "Epoch 14/1000\n",
            "47/47 [==============================] - 19s 402ms/step - loss: 0.0079 - accuracy: 0.9976 - val_loss: 9.3087e-04 - val_accuracy: 1.0000\n",
            "Epoch 15/1000\n",
            "47/47 [==============================] - 19s 415ms/step - loss: 0.0065 - accuracy: 0.9990 - val_loss: 2.3392e-04 - val_accuracy: 1.0000\n",
            "Epoch 16/1000\n",
            "47/47 [==============================] - 21s 457ms/step - loss: 0.0028 - accuracy: 0.9990 - val_loss: 1.2247e-04 - val_accuracy: 1.0000\n",
            "Epoch 17/1000\n",
            "47/47 [==============================] - 19s 402ms/step - loss: 0.0019 - accuracy: 0.9997 - val_loss: 5.1585e-04 - val_accuracy: 1.0000\n",
            "Epoch 18/1000\n",
            "47/47 [==============================] - 19s 415ms/step - loss: 5.0759e-04 - accuracy: 1.0000 - val_loss: 2.7421e-04 - val_accuracy: 1.0000\n",
            "Epoch 19/1000\n",
            "47/47 [==============================] - 19s 415ms/step - loss: 6.6335e-04 - accuracy: 1.0000 - val_loss: 8.4397e-04 - val_accuracy: 1.0000\n",
            "Epoch 20/1000\n",
            "47/47 [==============================] - 19s 403ms/step - loss: 0.0013 - accuracy: 0.9997 - val_loss: 0.0022 - val_accuracy: 0.9985\n",
            "Epoch 21/1000\n",
            "47/47 [==============================] - 21s 447ms/step - loss: 0.0023 - accuracy: 0.9990 - val_loss: 7.7012e-05 - val_accuracy: 1.0000\n",
            "Epoch 22/1000\n",
            "47/47 [==============================] - 19s 401ms/step - loss: 0.0012 - accuracy: 0.9997 - val_loss: 1.0564e-04 - val_accuracy: 1.0000\n",
            "Epoch 23/1000\n",
            "47/47 [==============================] - 19s 415ms/step - loss: 7.2812e-04 - accuracy: 1.0000 - val_loss: 0.0013 - val_accuracy: 0.9985\n",
            "Epoch 24/1000\n",
            "47/47 [==============================] - 19s 415ms/step - loss: 7.7344e-04 - accuracy: 1.0000 - val_loss: 2.0050e-04 - val_accuracy: 1.0000\n",
            "Epoch 25/1000\n",
            "47/47 [==============================] - 19s 403ms/step - loss: 5.2779e-04 - accuracy: 1.0000 - val_loss: 7.9630e-05 - val_accuracy: 1.0000\n",
            "Epoch 26/1000\n",
            "47/47 [==============================] - 19s 403ms/step - loss: 6.5476e-04 - accuracy: 0.9997 - val_loss: 1.3197e-04 - val_accuracy: 1.0000\n",
            "Epoch 27/1000\n",
            "47/47 [==============================] - 19s 404ms/step - loss: 3.5412e-04 - accuracy: 1.0000 - val_loss: 1.1862e-04 - val_accuracy: 1.0000\n",
            "Epoch 28/1000\n",
            "47/47 [==============================] - 19s 401ms/step - loss: 0.0035 - accuracy: 0.9986 - val_loss: 6.0539e-04 - val_accuracy: 1.0000\n",
            "Epoch 29/1000\n",
            "47/47 [==============================] - 19s 403ms/step - loss: 0.0049 - accuracy: 0.9983 - val_loss: 1.9226e-04 - val_accuracy: 1.0000\n",
            "Epoch 30/1000\n",
            "47/47 [==============================] - 19s 402ms/step - loss: 0.0025 - accuracy: 0.9993 - val_loss: 1.4876e-04 - val_accuracy: 1.0000\n",
            "Epoch 31/1000\n",
            "47/47 [==============================] - 22s 465ms/step - loss: 0.0042 - accuracy: 0.9983 - val_loss: 0.0015 - val_accuracy: 0.9985\n"
          ]
        }
      ]
    },
    {
      "cell_type": "code",
      "source": [
        "plt.plot(history.history['accuracy'], \"r\")\n",
        "plt.plot(history.history['val_accuracy'], \"b\")\n",
        "plt.xlabel(\"epochs\")\n",
        "plt.ylabel(\"accuracy\")\n",
        "plt.legend()\n",
        "plt.show()"
      ],
      "metadata": {
        "id": "5pParCDjEJfX",
        "colab": {
          "base_uri": "https://localhost:8080/",
          "height": 466
        },
        "outputId": "d32ee6a7-b965-42c5-b5db-2299c8cb45b1"
      },
      "execution_count": 25,
      "outputs": [
        {
          "output_type": "stream",
          "name": "stderr",
          "text": [
            "WARNING:matplotlib.legend:No artists with labels found to put in legend.  Note that artists whose label start with an underscore are ignored when legend() is called with no argument.\n"
          ]
        },
        {
          "output_type": "display_data",
          "data": {
            "text/plain": [
              "<Figure size 640x480 with 1 Axes>"
            ],
            "image/png": "[encoded data removed]"
          },
          "metadata": {}
        }
      ]
    },
    {
      "cell_type": "code",
      "source": [
        "plt.plot(history.history['loss'], \"r\")\n",
        "plt.plot(history.history['val_loss'], \"b\")\n",
        "plt.xlabel(\"epochs\")\n",
        "plt.ylabel(\"val\")\n",
        "plt.show()"
      ],
      "metadata": {
        "id": "N_MvbQN2FCGx",
        "colab": {
          "base_uri": "https://localhost:8080/",
          "height": 449
        },
        "outputId": "480a16a4-0d52-4dcb-e97a-16011863714a"
      },
      "execution_count": 26,
      "outputs": [
        {
          "output_type": "display_data",
          "data": {
            "text/plain": [
              "<Figure size 640x480 with 1 Axes>"
            ],
            "image/png": "[encoded data removed]"
          },
          "metadata": {}
        }
      ]
    },
    {
      "cell_type": "code",
      "source": [
        "model.save('옛다111.h5')"
      ],
      "metadata": {
        "id": "s58IkBW1G1Uh"
      },
      "execution_count": null,
      "outputs": []
    },
    {
      "cell_type": "code",
      "source": [
        "predictions = model.predict(X_test)\n",
        "predictions = np.argmax(predictions, axis=1)"
      ],
      "metadata": {
        "id": "BLc9w-xtSuAQ",
        "colab": {
          "base_uri": "https://localhost:8080/"
        },
        "outputId": "c55022a0-4ce8-4052-d4ce-1cac7a6bdaaf"
      },
      "execution_count": 27,
      "outputs": [
        {
          "output_type": "stream",
          "name": "stdout",
          "text": [
            "11/11 [==============================] - 4s 137ms/step\n"
          ]
        }
      ]
    },
    {
      "cell_type": "code",
      "source": [
        "from sklearn.metrics import confusion_matrix\n",
        "cm = confusion_matrix(Y_test, predictions)\n",
        "sns.heatmap(cm, annot=True)"
      ],
      "metadata": {
        "id": "qDWVs76GF0Zw",
        "colab": {
          "base_uri": "https://localhost:8080/",
          "height": 447
        },
        "outputId": "d9bdaa49-116d-443a-9a64-6d8f920d1eb0"
      },
      "execution_count": 28,
      "outputs": [
        {
          "output_type": "execute_result",
          "data": {
            "text/plain": [
              "<Axes: >"
            ]
          },
          "metadata": {},
          "execution_count": 28
        },
        {
          "output_type": "display_data",
          "data": {
            "text/plain": [
              "<Figure size 640x480 with 2 Axes>"
            ],
            "image/png": "[encoded data removed]"
          },
          "metadata": {}
        }
      ]
    },
    {
      "cell_type": "code",
      "source": [
        "# # 폴더 삭제 코드\n",
        "# def delete_folder(folder_path):\n",
        "#     try:\n",
        "#         shutil.rmtree(folder_path)\n",
        "#         print(f\"삭제완!: {folder_path}\")\n",
        "#     except Exception as e:\n",
        "#         print(f\"삭제 불가능: {e}\")\n",
        "\n",
        "# folder_to_delete = '/content/건물 화재1'\n",
        "# delete_folder(folder_to_delete)\n",
        "# folder_to_delete = '/content/차량 화재1'\n",
        "# delete_folder(folder_to_delete)"
      ],
      "metadata": {
        "id": "VLnHfyEUTdhg"
      },
      "execution_count": 29,
      "outputs": []
    },
    {
      "cell_type": "code",
      "source": [],
      "metadata": {
        "id": "YkEczXD7u6M2"
      },
      "execution_count": 29,
      "outputs": []
    }
  ]
}